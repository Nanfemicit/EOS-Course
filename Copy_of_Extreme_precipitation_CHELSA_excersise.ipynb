{
  "nbformat": 4,
  "nbformat_minor": 0,
  "metadata": {
    "colab": {
      "provenance": [],
      "include_colab_link": true
    },
    "kernelspec": {
      "name": "python3",
      "display_name": "Python 3"
    },
    "language_info": {
      "name": "python"
    }
  },
  "cells": [
    {
      "cell_type": "markdown",
      "metadata": {
        "id": "view-in-github",
        "colab_type": "text"
      },
      "source": [
        "<a href=\"https://colab.research.google.com/github/Nanfemicit/EOS-Course/blob/main/Copy_of_Extreme_precipitation_CHELSA_excersise.ipynb\" target=\"_parent\"><img src=\"https://colab.research.google.com/assets/colab-badge.svg\" alt=\"Open In Colab\"/></a>"
      ]
    },
    {
      "cell_type": "markdown",
      "source": [
        "# Extrem value analysis Tenerife precipitation\n",
        "\n",
        "This script analyzes **spatial and temporal precipitation data** using **daily precipitation records**, focusing on **extreme value events**."
      ],
      "metadata": {
        "id": "6Y62kbbmCiGH"
      }
    },
    {
      "cell_type": "code",
      "source": [
        "#Install some libaries first!\n",
        "!pip install xclim\n",
        "!pip install lmoments3"
      ],
      "metadata": {
        "collapsed": true,
        "id": "s4oTOFXu2hav",
        "colab": {
          "base_uri": "https://localhost:8080/"
        },
        "outputId": "9b0da36a-12fe-4f03-8d38-e6d16b5499b9"
      },
      "execution_count": 1,
      "outputs": [
        {
          "output_type": "stream",
          "name": "stdout",
          "text": [
            "Collecting xclim\n",
            "  Downloading xclim-0.54.0-py3-none-any.whl.metadata (16 kB)\n",
            "Collecting boltons>=20.1 (from xclim)\n",
            "  Downloading boltons-25.0.0-py3-none-any.whl.metadata (6.5 kB)\n",
            "Requirement already satisfied: bottleneck>=1.3.1 in /usr/local/lib/python3.11/dist-packages (from xclim) (1.4.2)\n",
            "Collecting cf-xarray>=0.9.3 (from xclim)\n",
            "  Downloading cf_xarray-0.10.0-py3-none-any.whl.metadata (16 kB)\n",
            "Collecting cftime>=1.4.1 (from xclim)\n",
            "  Downloading cftime-1.6.4.post1-cp311-cp311-manylinux_2_17_x86_64.manylinux2014_x86_64.whl.metadata (8.7 kB)\n",
            "Requirement already satisfied: click>=8.1 in /usr/local/lib/python3.11/dist-packages (from xclim) (8.1.8)\n",
            "Requirement already satisfied: dask>=2024.8.1 in /usr/local/lib/python3.11/dist-packages (from dask[array]>=2024.8.1->xclim) (2024.10.0)\n",
            "Requirement already satisfied: filelock>=3.14.0 in /usr/local/lib/python3.11/dist-packages (from xclim) (3.17.0)\n",
            "Requirement already satisfied: jsonpickle>=3.1.0 in /usr/local/lib/python3.11/dist-packages (from xclim) (4.0.1)\n",
            "Requirement already satisfied: numba>=0.54.1 in /usr/local/lib/python3.11/dist-packages (from xclim) (0.60.0)\n",
            "Requirement already satisfied: numpy>=1.23.0 in /usr/local/lib/python3.11/dist-packages (from xclim) (1.26.4)\n",
            "Requirement already satisfied: packaging>=24.0 in /usr/local/lib/python3.11/dist-packages (from xclim) (24.2)\n",
            "Requirement already satisfied: pandas>=2.2 in /usr/local/lib/python3.11/dist-packages (from xclim) (2.2.2)\n",
            "Collecting pint>=0.24.4 (from xclim)\n",
            "  Downloading Pint-0.24.4-py3-none-any.whl.metadata (8.5 kB)\n",
            "Requirement already satisfied: pyarrow>=10.0.1 in /usr/local/lib/python3.11/dist-packages (from xclim) (17.0.0)\n",
            "Requirement already satisfied: pyyaml>=6.0.1 in /usr/local/lib/python3.11/dist-packages (from xclim) (6.0.2)\n",
            "Requirement already satisfied: scikit-learn>=1.1.0 in /usr/local/lib/python3.11/dist-packages (from xclim) (1.6.1)\n",
            "Requirement already satisfied: scipy>=1.9.0 in /usr/local/lib/python3.11/dist-packages (from xclim) (1.13.1)\n",
            "Requirement already satisfied: statsmodels>=0.14.2 in /usr/local/lib/python3.11/dist-packages (from xclim) (0.14.4)\n",
            "Requirement already satisfied: xarray!=2024.10.0,>=2023.11.0 in /usr/local/lib/python3.11/dist-packages (from xclim) (2025.1.1)\n",
            "Collecting yamale>=5.0.0 (from xclim)\n",
            "  Downloading yamale-6.0.0-py3-none-any.whl.metadata (22 kB)\n",
            "Requirement already satisfied: cloudpickle>=3.0.0 in /usr/local/lib/python3.11/dist-packages (from dask>=2024.8.1->dask[array]>=2024.8.1->xclim) (3.1.1)\n",
            "Requirement already satisfied: fsspec>=2021.09.0 in /usr/local/lib/python3.11/dist-packages (from dask>=2024.8.1->dask[array]>=2024.8.1->xclim) (2024.10.0)\n",
            "Requirement already satisfied: partd>=1.4.0 in /usr/local/lib/python3.11/dist-packages (from dask>=2024.8.1->dask[array]>=2024.8.1->xclim) (1.4.2)\n",
            "Requirement already satisfied: toolz>=0.10.0 in /usr/local/lib/python3.11/dist-packages (from dask>=2024.8.1->dask[array]>=2024.8.1->xclim) (0.12.1)\n",
            "Requirement already satisfied: importlib-metadata>=4.13.0 in /usr/local/lib/python3.11/dist-packages (from dask>=2024.8.1->dask[array]>=2024.8.1->xclim) (8.6.1)\n",
            "Requirement already satisfied: llvmlite<0.44,>=0.43.0dev0 in /usr/local/lib/python3.11/dist-packages (from numba>=0.54.1->xclim) (0.43.0)\n",
            "Requirement already satisfied: python-dateutil>=2.8.2 in /usr/local/lib/python3.11/dist-packages (from pandas>=2.2->xclim) (2.8.2)\n",
            "Requirement already satisfied: pytz>=2020.1 in /usr/local/lib/python3.11/dist-packages (from pandas>=2.2->xclim) (2024.2)\n",
            "Requirement already satisfied: tzdata>=2022.7 in /usr/local/lib/python3.11/dist-packages (from pandas>=2.2->xclim) (2025.1)\n",
            "Requirement already satisfied: platformdirs>=2.1.0 in /usr/local/lib/python3.11/dist-packages (from pint>=0.24.4->xclim) (4.3.6)\n",
            "Requirement already satisfied: typing-extensions>=4.0.0 in /usr/local/lib/python3.11/dist-packages (from pint>=0.24.4->xclim) (4.12.2)\n",
            "Collecting flexcache>=0.3 (from pint>=0.24.4->xclim)\n",
            "  Downloading flexcache-0.3-py3-none-any.whl.metadata (7.0 kB)\n",
            "Collecting flexparser>=0.4 (from pint>=0.24.4->xclim)\n",
            "  Downloading flexparser-0.4-py3-none-any.whl.metadata (18 kB)\n",
            "Requirement already satisfied: joblib>=1.2.0 in /usr/local/lib/python3.11/dist-packages (from scikit-learn>=1.1.0->xclim) (1.4.2)\n",
            "Requirement already satisfied: threadpoolctl>=3.1.0 in /usr/local/lib/python3.11/dist-packages (from scikit-learn>=1.1.0->xclim) (3.5.0)\n",
            "Requirement already satisfied: patsy>=0.5.6 in /usr/local/lib/python3.11/dist-packages (from statsmodels>=0.14.2->xclim) (1.0.1)\n",
            "Requirement already satisfied: zipp>=3.20 in /usr/local/lib/python3.11/dist-packages (from importlib-metadata>=4.13.0->dask>=2024.8.1->dask[array]>=2024.8.1->xclim) (3.21.0)\n",
            "Requirement already satisfied: locket in /usr/local/lib/python3.11/dist-packages (from partd>=1.4.0->dask>=2024.8.1->dask[array]>=2024.8.1->xclim) (1.0.0)\n",
            "Requirement already satisfied: six>=1.5 in /usr/local/lib/python3.11/dist-packages (from python-dateutil>=2.8.2->pandas>=2.2->xclim) (1.17.0)\n",
            "Downloading xclim-0.54.0-py3-none-any.whl (444 kB)\n",
            "\u001b[2K   \u001b[90m━━━━━━━━━━━━━━━━━━━━━━━━━━━━━━━━━━━━━━━━\u001b[0m \u001b[32m444.8/444.8 kB\u001b[0m \u001b[31m9.9 MB/s\u001b[0m eta \u001b[36m0:00:00\u001b[0m\n",
            "\u001b[?25hDownloading boltons-25.0.0-py3-none-any.whl (194 kB)\n",
            "\u001b[2K   \u001b[90m━━━━━━━━━━━━━━━━━━━━━━━━━━━━━━━━━━━━━━━━\u001b[0m \u001b[32m194.2/194.2 kB\u001b[0m \u001b[31m11.7 MB/s\u001b[0m eta \u001b[36m0:00:00\u001b[0m\n",
            "\u001b[?25hDownloading cf_xarray-0.10.0-py3-none-any.whl (69 kB)\n",
            "\u001b[2K   \u001b[90m━━━━━━━━━━━━━━━━━━━━━━━━━━━━━━━━━━━━━━━━\u001b[0m \u001b[32m69.8/69.8 kB\u001b[0m \u001b[31m4.6 MB/s\u001b[0m eta \u001b[36m0:00:00\u001b[0m\n",
            "\u001b[?25hDownloading cftime-1.6.4.post1-cp311-cp311-manylinux_2_17_x86_64.manylinux2014_x86_64.whl (1.4 MB)\n",
            "\u001b[2K   \u001b[90m━━━━━━━━━━━━━━━━━━━━━━━━━━━━━━━━━━━━━━━━\u001b[0m \u001b[32m1.4/1.4 MB\u001b[0m \u001b[31m18.6 MB/s\u001b[0m eta \u001b[36m0:00:00\u001b[0m\n",
            "\u001b[?25hDownloading Pint-0.24.4-py3-none-any.whl (302 kB)\n",
            "\u001b[2K   \u001b[90m━━━━━━━━━━━━━━━━━━━━━━━━━━━━━━━━━━━━━━━━\u001b[0m \u001b[32m302.0/302.0 kB\u001b[0m \u001b[31m14.6 MB/s\u001b[0m eta \u001b[36m0:00:00\u001b[0m\n",
            "\u001b[?25hDownloading yamale-6.0.0-py3-none-any.whl (57 kB)\n",
            "\u001b[2K   \u001b[90m━━━━━━━━━━━━━━━━━━━━━━━━━━━━━━━━━━━━━━━━\u001b[0m \u001b[32m57.9/57.9 kB\u001b[0m \u001b[31m2.4 MB/s\u001b[0m eta \u001b[36m0:00:00\u001b[0m\n",
            "\u001b[?25hDownloading flexcache-0.3-py3-none-any.whl (13 kB)\n",
            "Downloading flexparser-0.4-py3-none-any.whl (27 kB)\n",
            "Installing collected packages: yamale, flexparser, flexcache, cftime, boltons, pint, cf-xarray, xclim\n",
            "Successfully installed boltons-25.0.0 cf-xarray-0.10.0 cftime-1.6.4.post1 flexcache-0.3 flexparser-0.4 pint-0.24.4 xclim-0.54.0 yamale-6.0.0\n",
            "Collecting lmoments3\n",
            "  Downloading lmoments3-1.0.8-py3-none-any.whl.metadata (46 kB)\n",
            "\u001b[2K     \u001b[90m━━━━━━━━━━━━━━━━━━━━━━━━━━━━━━━━━━━━━━━━\u001b[0m \u001b[32m46.5/46.5 kB\u001b[0m \u001b[31m2.2 MB/s\u001b[0m eta \u001b[36m0:00:00\u001b[0m\n",
            "\u001b[?25hRequirement already satisfied: numpy in /usr/local/lib/python3.11/dist-packages (from lmoments3) (1.26.4)\n",
            "Requirement already satisfied: scipy in /usr/local/lib/python3.11/dist-packages (from lmoments3) (1.13.1)\n",
            "Downloading lmoments3-1.0.8-py3-none-any.whl (48 kB)\n",
            "\u001b[2K   \u001b[90m━━━━━━━━━━━━━━━━━━━━━━━━━━━━━━━━━━━━━━━━\u001b[0m \u001b[32m48.2/48.2 kB\u001b[0m \u001b[31m1.2 MB/s\u001b[0m eta \u001b[36m0:00:00\u001b[0m\n",
            "\u001b[?25hInstalling collected packages: lmoments3\n",
            "Successfully installed lmoments3-1.0.8\n"
          ]
        }
      ]
    },
    {
      "cell_type": "code",
      "execution_count": 2,
      "metadata": {
        "collapsed": true,
        "id": "E7frwMgR2L50",
        "colab": {
          "base_uri": "https://localhost:8080/"
        },
        "outputId": "58ef8c2b-b1fa-432d-9028-25e0137e46c3"
      },
      "outputs": [
        {
          "output_type": "stream",
          "name": "stderr",
          "text": [
            "WARNING:pint.util:Redefining 'percent' (<class 'pint.delegates.txt_defparser.plain.UnitDefinition'>)\n",
            "WARNING:pint.util:Redefining '%' (<class 'pint.delegates.txt_defparser.plain.UnitDefinition'>)\n",
            "WARNING:pint.util:Redefining 'year' (<class 'pint.delegates.txt_defparser.plain.UnitDefinition'>)\n",
            "WARNING:pint.util:Redefining 'yr' (<class 'pint.delegates.txt_defparser.plain.UnitDefinition'>)\n",
            "WARNING:pint.util:Redefining 'C' (<class 'pint.delegates.txt_defparser.plain.UnitDefinition'>)\n",
            "WARNING:pint.util:Redefining 'd' (<class 'pint.delegates.txt_defparser.plain.UnitDefinition'>)\n",
            "WARNING:pint.util:Redefining 'h' (<class 'pint.delegates.txt_defparser.plain.UnitDefinition'>)\n",
            "WARNING:pint.util:Redefining 'degrees_north' (<class 'pint.delegates.txt_defparser.plain.UnitDefinition'>)\n",
            "WARNING:pint.util:Redefining 'degrees_east' (<class 'pint.delegates.txt_defparser.plain.UnitDefinition'>)\n",
            "WARNING:pint.util:Redefining 'degrees' (<class 'pint.delegates.txt_defparser.plain.UnitDefinition'>)\n",
            "WARNING:pint.util:Redefining '[speed]' (<class 'pint.delegates.txt_defparser.plain.DerivedDimensionDefinition'>)\n"
          ]
        }
      ],
      "source": [
        "#Import need libaries\n",
        "import xarray as xr\n",
        "import numpy as np\n",
        "import matplotlib.pyplot as plt\n",
        "import seaborn as sns\n",
        "import scipy.stats as stats\n",
        "\n",
        "import lmoments3\n",
        "from lmoments3 import distr\n",
        "\n",
        "from xclim.core.missing import missing_pct\n",
        "from xclim.indices.generic import select_resample_op\n",
        "from xclim.indices.stats import fa, fit, frequency_analysis, parametric_quantile\n",
        "import gdown"
      ]
    },
    {
      "cell_type": "markdown",
      "source": [
        "#Download data\n",
        "\n",
        "We utilize precipitation data from [CHELSA](https://chelsa-climate.org/), a high-resolution climate dataset derived from downscaled ERA5 reanalysis data. A preprocessed dataset is available for download from Google Drive:"
      ],
      "metadata": {
        "id": "CS5BlL5e8mbI"
      }
    },
    {
      "cell_type": "code",
      "source": [
        "# Download CHELSA precipitation data from Google Drive\n",
        "#'GOOGLE_DRIVE_LINK' to NetCDF file\n",
        "url = 'https://drive.google.com/file/d/1Z9-YDydbsxFBq4Do43KaB3-Lyzm9dkpd/view?usp=drive_link'\n",
        "# Download the NetCDF file\n",
        "file_path = 'CHELSA_precipitation.nc'\n",
        "gdown.download(url, file_path, quiet=False, fuzzy=True)"
      ],
      "metadata": {
        "colab": {
          "base_uri": "https://localhost:8080/",
          "height": 123
        },
        "collapsed": true,
        "id": "sE7BhSbk2wGB",
        "outputId": "a0f0dcbd-9104-426a-93ec-749619eacb7c"
      },
      "execution_count": 3,
      "outputs": [
        {
          "output_type": "stream",
          "name": "stderr",
          "text": [
            "Downloading...\n",
            "From (original): https://drive.google.com/uc?id=1Z9-YDydbsxFBq4Do43KaB3-Lyzm9dkpd\n",
            "From (redirected): https://drive.google.com/uc?id=1Z9-YDydbsxFBq4Do43KaB3-Lyzm9dkpd&confirm=t&uuid=42d4ed6d-cc16-4500-8717-1932b0a713dc\n",
            "To: /content/CHELSA_precipitation.nc\n",
            "100%|██████████| 325M/325M [00:03<00:00, 106MB/s]\n"
          ]
        },
        {
          "output_type": "execute_result",
          "data": {
            "text/plain": [
              "'CHELSA_precipitation.nc'"
            ],
            "application/vnd.google.colaboratory.intrinsic+json": {
              "type": "string"
            }
          },
          "metadata": {},
          "execution_count": 3
        }
      ]
    },
    {
      "cell_type": "markdown",
      "source": [
        "#Load data\n",
        "\n",
        "Since this dataset contains spatial and temporal data, forming a 3D data cube, we will use [XArray](https://docs.xarray.dev/en/stable/), a specialized data protocol designed for handling multi-dimensional scientific data efficiently. To begin, we will open the NetCDF file using XArray:"
      ],
      "metadata": {
        "id": "kqqJmoy79nr0"
      }
    },
    {
      "cell_type": "code",
      "source": [
        "#Load precipitation data as XArray\n",
        "daily_precipitation = xr.open_dataset(file_path)\n",
        "daily_precipitation"
      ],
      "metadata": {
        "id": "SrqRfh3Q3he-",
        "outputId": "27624363-22ef-40f7-8506-bf7ea9b66b7a",
        "colab": {
          "base_uri": "https://localhost:8080/",
          "height": 318
        }
      },
      "execution_count": 4,
      "outputs": [
        {
          "output_type": "execute_result",
          "data": {
            "text/plain": [
              "<xarray.Dataset> Size: 325MB\n",
              "Dimensions:  (time: 5114, lat: 77, lon: 103)\n",
              "Coordinates:\n",
              "  * time     (time) datetime64[ns] 41kB 2003-01-01 2003-01-02 ... 2016-12-31\n",
              "  * lat      (lat) float64 616B 28.62 28.61 28.6 28.59 ... 28.0 27.99 27.98\n",
              "  * lon      (lon) float64 824B -16.95 -16.94 -16.93 ... -16.11 -16.1 -16.09\n",
              "Data variables:\n",
              "    tp       (time, lat, lon) float64 324MB ...\n",
              "Attributes:\n",
              "    units:    mm/d"
            ],
            "text/html": [
              "<div><svg style=\"position: absolute; width: 0; height: 0; overflow: hidden\">\n",
              "<defs>\n",
              "<symbol id=\"icon-database\" viewBox=\"0 0 32 32\">\n",
              "<path d=\"M16 0c-8.837 0-16 2.239-16 5v4c0 2.761 7.163 5 16 5s16-2.239 16-5v-4c0-2.761-7.163-5-16-5z\"></path>\n",
              "<path d=\"M16 17c-8.837 0-16-2.239-16-5v6c0 2.761 7.163 5 16 5s16-2.239 16-5v-6c0 2.761-7.163 5-16 5z\"></path>\n",
              "<path d=\"M16 26c-8.837 0-16-2.239-16-5v6c0 2.761 7.163 5 16 5s16-2.239 16-5v-6c0 2.761-7.163 5-16 5z\"></path>\n",
              "</symbol>\n",
              "<symbol id=\"icon-file-text2\" viewBox=\"0 0 32 32\">\n",
              "<path d=\"M28.681 7.159c-0.694-0.947-1.662-2.053-2.724-3.116s-2.169-2.030-3.116-2.724c-1.612-1.182-2.393-1.319-2.841-1.319h-15.5c-1.378 0-2.5 1.121-2.5 2.5v27c0 1.378 1.122 2.5 2.5 2.5h23c1.378 0 2.5-1.122 2.5-2.5v-19.5c0-0.448-0.137-1.23-1.319-2.841zM24.543 5.457c0.959 0.959 1.712 1.825 2.268 2.543h-4.811v-4.811c0.718 0.556 1.584 1.309 2.543 2.268zM28 29.5c0 0.271-0.229 0.5-0.5 0.5h-23c-0.271 0-0.5-0.229-0.5-0.5v-27c0-0.271 0.229-0.5 0.5-0.5 0 0 15.499-0 15.5 0v7c0 0.552 0.448 1 1 1h7v19.5z\"></path>\n",
              "<path d=\"M23 26h-14c-0.552 0-1-0.448-1-1s0.448-1 1-1h14c0.552 0 1 0.448 1 1s-0.448 1-1 1z\"></path>\n",
              "<path d=\"M23 22h-14c-0.552 0-1-0.448-1-1s0.448-1 1-1h14c0.552 0 1 0.448 1 1s-0.448 1-1 1z\"></path>\n",
              "<path d=\"M23 18h-14c-0.552 0-1-0.448-1-1s0.448-1 1-1h14c0.552 0 1 0.448 1 1s-0.448 1-1 1z\"></path>\n",
              "</symbol>\n",
              "</defs>\n",
              "</svg>\n",
              "<style>/* CSS stylesheet for displaying xarray objects in jupyterlab.\n",
              " *\n",
              " */\n",
              "\n",
              ":root {\n",
              "  --xr-font-color0: var(--jp-content-font-color0, rgba(0, 0, 0, 1));\n",
              "  --xr-font-color2: var(--jp-content-font-color2, rgba(0, 0, 0, 0.54));\n",
              "  --xr-font-color3: var(--jp-content-font-color3, rgba(0, 0, 0, 0.38));\n",
              "  --xr-border-color: var(--jp-border-color2, #e0e0e0);\n",
              "  --xr-disabled-color: var(--jp-layout-color3, #bdbdbd);\n",
              "  --xr-background-color: var(--jp-layout-color0, white);\n",
              "  --xr-background-color-row-even: var(--jp-layout-color1, white);\n",
              "  --xr-background-color-row-odd: var(--jp-layout-color2, #eeeeee);\n",
              "}\n",
              "\n",
              "html[theme=\"dark\"],\n",
              "html[data-theme=\"dark\"],\n",
              "body[data-theme=\"dark\"],\n",
              "body.vscode-dark {\n",
              "  --xr-font-color0: rgba(255, 255, 255, 1);\n",
              "  --xr-font-color2: rgba(255, 255, 255, 0.54);\n",
              "  --xr-font-color3: rgba(255, 255, 255, 0.38);\n",
              "  --xr-border-color: #1f1f1f;\n",
              "  --xr-disabled-color: #515151;\n",
              "  --xr-background-color: #111111;\n",
              "  --xr-background-color-row-even: #111111;\n",
              "  --xr-background-color-row-odd: #313131;\n",
              "}\n",
              "\n",
              ".xr-wrap {\n",
              "  display: block !important;\n",
              "  min-width: 300px;\n",
              "  max-width: 700px;\n",
              "}\n",
              "\n",
              ".xr-text-repr-fallback {\n",
              "  /* fallback to plain text repr when CSS is not injected (untrusted notebook) */\n",
              "  display: none;\n",
              "}\n",
              "\n",
              ".xr-header {\n",
              "  padding-top: 6px;\n",
              "  padding-bottom: 6px;\n",
              "  margin-bottom: 4px;\n",
              "  border-bottom: solid 1px var(--xr-border-color);\n",
              "}\n",
              "\n",
              ".xr-header > div,\n",
              ".xr-header > ul {\n",
              "  display: inline;\n",
              "  margin-top: 0;\n",
              "  margin-bottom: 0;\n",
              "}\n",
              "\n",
              ".xr-obj-type,\n",
              ".xr-array-name {\n",
              "  margin-left: 2px;\n",
              "  margin-right: 10px;\n",
              "}\n",
              "\n",
              ".xr-obj-type {\n",
              "  color: var(--xr-font-color2);\n",
              "}\n",
              "\n",
              ".xr-sections {\n",
              "  padding-left: 0 !important;\n",
              "  display: grid;\n",
              "  grid-template-columns: 150px auto auto 1fr 0 20px 0 20px;\n",
              "}\n",
              "\n",
              ".xr-section-item {\n",
              "  display: contents;\n",
              "}\n",
              "\n",
              ".xr-section-item input {\n",
              "  display: inline-block;\n",
              "  opacity: 0;\n",
              "  height: 0;\n",
              "}\n",
              "\n",
              ".xr-section-item input + label {\n",
              "  color: var(--xr-disabled-color);\n",
              "}\n",
              "\n",
              ".xr-section-item input:enabled + label {\n",
              "  cursor: pointer;\n",
              "  color: var(--xr-font-color2);\n",
              "}\n",
              "\n",
              ".xr-section-item input:focus + label {\n",
              "  border: 2px solid var(--xr-font-color0);\n",
              "}\n",
              "\n",
              ".xr-section-item input:enabled + label:hover {\n",
              "  color: var(--xr-font-color0);\n",
              "}\n",
              "\n",
              ".xr-section-summary {\n",
              "  grid-column: 1;\n",
              "  color: var(--xr-font-color2);\n",
              "  font-weight: 500;\n",
              "}\n",
              "\n",
              ".xr-section-summary > span {\n",
              "  display: inline-block;\n",
              "  padding-left: 0.5em;\n",
              "}\n",
              "\n",
              ".xr-section-summary-in:disabled + label {\n",
              "  color: var(--xr-font-color2);\n",
              "}\n",
              "\n",
              ".xr-section-summary-in + label:before {\n",
              "  display: inline-block;\n",
              "  content: \"►\";\n",
              "  font-size: 11px;\n",
              "  width: 15px;\n",
              "  text-align: center;\n",
              "}\n",
              "\n",
              ".xr-section-summary-in:disabled + label:before {\n",
              "  color: var(--xr-disabled-color);\n",
              "}\n",
              "\n",
              ".xr-section-summary-in:checked + label:before {\n",
              "  content: \"▼\";\n",
              "}\n",
              "\n",
              ".xr-section-summary-in:checked + label > span {\n",
              "  display: none;\n",
              "}\n",
              "\n",
              ".xr-section-summary,\n",
              ".xr-section-inline-details {\n",
              "  padding-top: 4px;\n",
              "  padding-bottom: 4px;\n",
              "}\n",
              "\n",
              ".xr-section-inline-details {\n",
              "  grid-column: 2 / -1;\n",
              "}\n",
              "\n",
              ".xr-section-details {\n",
              "  display: none;\n",
              "  grid-column: 1 / -1;\n",
              "  margin-bottom: 5px;\n",
              "}\n",
              "\n",
              ".xr-section-summary-in:checked ~ .xr-section-details {\n",
              "  display: contents;\n",
              "}\n",
              "\n",
              ".xr-array-wrap {\n",
              "  grid-column: 1 / -1;\n",
              "  display: grid;\n",
              "  grid-template-columns: 20px auto;\n",
              "}\n",
              "\n",
              ".xr-array-wrap > label {\n",
              "  grid-column: 1;\n",
              "  vertical-align: top;\n",
              "}\n",
              "\n",
              ".xr-preview {\n",
              "  color: var(--xr-font-color3);\n",
              "}\n",
              "\n",
              ".xr-array-preview,\n",
              ".xr-array-data {\n",
              "  padding: 0 5px !important;\n",
              "  grid-column: 2;\n",
              "}\n",
              "\n",
              ".xr-array-data,\n",
              ".xr-array-in:checked ~ .xr-array-preview {\n",
              "  display: none;\n",
              "}\n",
              "\n",
              ".xr-array-in:checked ~ .xr-array-data,\n",
              ".xr-array-preview {\n",
              "  display: inline-block;\n",
              "}\n",
              "\n",
              ".xr-dim-list {\n",
              "  display: inline-block !important;\n",
              "  list-style: none;\n",
              "  padding: 0 !important;\n",
              "  margin: 0;\n",
              "}\n",
              "\n",
              ".xr-dim-list li {\n",
              "  display: inline-block;\n",
              "  padding: 0;\n",
              "  margin: 0;\n",
              "}\n",
              "\n",
              ".xr-dim-list:before {\n",
              "  content: \"(\";\n",
              "}\n",
              "\n",
              ".xr-dim-list:after {\n",
              "  content: \")\";\n",
              "}\n",
              "\n",
              ".xr-dim-list li:not(:last-child):after {\n",
              "  content: \",\";\n",
              "  padding-right: 5px;\n",
              "}\n",
              "\n",
              ".xr-has-index {\n",
              "  font-weight: bold;\n",
              "}\n",
              "\n",
              ".xr-var-list,\n",
              ".xr-var-item {\n",
              "  display: contents;\n",
              "}\n",
              "\n",
              ".xr-var-item > div,\n",
              ".xr-var-item label,\n",
              ".xr-var-item > .xr-var-name span {\n",
              "  background-color: var(--xr-background-color-row-even);\n",
              "  margin-bottom: 0;\n",
              "}\n",
              "\n",
              ".xr-var-item > .xr-var-name:hover span {\n",
              "  padding-right: 5px;\n",
              "}\n",
              "\n",
              ".xr-var-list > li:nth-child(odd) > div,\n",
              ".xr-var-list > li:nth-child(odd) > label,\n",
              ".xr-var-list > li:nth-child(odd) > .xr-var-name span {\n",
              "  background-color: var(--xr-background-color-row-odd);\n",
              "}\n",
              "\n",
              ".xr-var-name {\n",
              "  grid-column: 1;\n",
              "}\n",
              "\n",
              ".xr-var-dims {\n",
              "  grid-column: 2;\n",
              "}\n",
              "\n",
              ".xr-var-dtype {\n",
              "  grid-column: 3;\n",
              "  text-align: right;\n",
              "  color: var(--xr-font-color2);\n",
              "}\n",
              "\n",
              ".xr-var-preview {\n",
              "  grid-column: 4;\n",
              "}\n",
              "\n",
              ".xr-index-preview {\n",
              "  grid-column: 2 / 5;\n",
              "  color: var(--xr-font-color2);\n",
              "}\n",
              "\n",
              ".xr-var-name,\n",
              ".xr-var-dims,\n",
              ".xr-var-dtype,\n",
              ".xr-preview,\n",
              ".xr-attrs dt {\n",
              "  white-space: nowrap;\n",
              "  overflow: hidden;\n",
              "  text-overflow: ellipsis;\n",
              "  padding-right: 10px;\n",
              "}\n",
              "\n",
              ".xr-var-name:hover,\n",
              ".xr-var-dims:hover,\n",
              ".xr-var-dtype:hover,\n",
              ".xr-attrs dt:hover {\n",
              "  overflow: visible;\n",
              "  width: auto;\n",
              "  z-index: 1;\n",
              "}\n",
              "\n",
              ".xr-var-attrs,\n",
              ".xr-var-data,\n",
              ".xr-index-data {\n",
              "  display: none;\n",
              "  background-color: var(--xr-background-color) !important;\n",
              "  padding-bottom: 5px !important;\n",
              "}\n",
              "\n",
              ".xr-var-attrs-in:checked ~ .xr-var-attrs,\n",
              ".xr-var-data-in:checked ~ .xr-var-data,\n",
              ".xr-index-data-in:checked ~ .xr-index-data {\n",
              "  display: block;\n",
              "}\n",
              "\n",
              ".xr-var-data > table {\n",
              "  float: right;\n",
              "}\n",
              "\n",
              ".xr-var-name span,\n",
              ".xr-var-data,\n",
              ".xr-index-name div,\n",
              ".xr-index-data,\n",
              ".xr-attrs {\n",
              "  padding-left: 25px !important;\n",
              "}\n",
              "\n",
              ".xr-attrs,\n",
              ".xr-var-attrs,\n",
              ".xr-var-data,\n",
              ".xr-index-data {\n",
              "  grid-column: 1 / -1;\n",
              "}\n",
              "\n",
              "dl.xr-attrs {\n",
              "  padding: 0;\n",
              "  margin: 0;\n",
              "  display: grid;\n",
              "  grid-template-columns: 125px auto;\n",
              "}\n",
              "\n",
              ".xr-attrs dt,\n",
              ".xr-attrs dd {\n",
              "  padding: 0;\n",
              "  margin: 0;\n",
              "  float: left;\n",
              "  padding-right: 10px;\n",
              "  width: auto;\n",
              "}\n",
              "\n",
              ".xr-attrs dt {\n",
              "  font-weight: normal;\n",
              "  grid-column: 1;\n",
              "}\n",
              "\n",
              ".xr-attrs dt:hover span {\n",
              "  display: inline-block;\n",
              "  background: var(--xr-background-color);\n",
              "  padding-right: 10px;\n",
              "}\n",
              "\n",
              ".xr-attrs dd {\n",
              "  grid-column: 2;\n",
              "  white-space: pre-wrap;\n",
              "  word-break: break-all;\n",
              "}\n",
              "\n",
              ".xr-icon-database,\n",
              ".xr-icon-file-text2,\n",
              ".xr-no-icon {\n",
              "  display: inline-block;\n",
              "  vertical-align: middle;\n",
              "  width: 1em;\n",
              "  height: 1.5em !important;\n",
              "  stroke-width: 0;\n",
              "  stroke: currentColor;\n",
              "  fill: currentColor;\n",
              "}\n",
              "</style><pre class='xr-text-repr-fallback'>&lt;xarray.Dataset&gt; Size: 325MB\n",
              "Dimensions:  (time: 5114, lat: 77, lon: 103)\n",
              "Coordinates:\n",
              "  * time     (time) datetime64[ns] 41kB 2003-01-01 2003-01-02 ... 2016-12-31\n",
              "  * lat      (lat) float64 616B 28.62 28.61 28.6 28.59 ... 28.0 27.99 27.98\n",
              "  * lon      (lon) float64 824B -16.95 -16.94 -16.93 ... -16.11 -16.1 -16.09\n",
              "Data variables:\n",
              "    tp       (time, lat, lon) float64 324MB ...\n",
              "Attributes:\n",
              "    units:    mm/d</pre><div class='xr-wrap' style='display:none'><div class='xr-header'><div class='xr-obj-type'>xarray.Dataset</div></div><ul class='xr-sections'><li class='xr-section-item'><input id='section-71cf841d-7c8e-4719-8305-e2f9b884f3dc' class='xr-section-summary-in' type='checkbox' disabled ><label for='section-71cf841d-7c8e-4719-8305-e2f9b884f3dc' class='xr-section-summary'  title='Expand/collapse section'>Dimensions:</label><div class='xr-section-inline-details'><ul class='xr-dim-list'><li><span class='xr-has-index'>time</span>: 5114</li><li><span class='xr-has-index'>lat</span>: 77</li><li><span class='xr-has-index'>lon</span>: 103</li></ul></div><div class='xr-section-details'></div></li><li class='xr-section-item'><input id='section-a39cd182-a283-406b-a5a3-696bb83873d8' class='xr-section-summary-in' type='checkbox'  checked><label for='section-a39cd182-a283-406b-a5a3-696bb83873d8' class='xr-section-summary' >Coordinates: <span>(3)</span></label><div class='xr-section-inline-details'></div><div class='xr-section-details'><ul class='xr-var-list'><li class='xr-var-item'><div class='xr-var-name'><span class='xr-has-index'>time</span></div><div class='xr-var-dims'>(time)</div><div class='xr-var-dtype'>datetime64[ns]</div><div class='xr-var-preview xr-preview'>2003-01-01 ... 2016-12-31</div><input id='attrs-378f40b7-9c28-4e96-8ac7-829c967c1fa1' class='xr-var-attrs-in' type='checkbox' disabled><label for='attrs-378f40b7-9c28-4e96-8ac7-829c967c1fa1' title='Show/Hide attributes'><svg class='icon xr-icon-file-text2'><use xlink:href='#icon-file-text2'></use></svg></label><input id='data-68c610d3-203f-4844-8a42-fa9aa0f7a225' class='xr-var-data-in' type='checkbox'><label for='data-68c610d3-203f-4844-8a42-fa9aa0f7a225' title='Show/Hide data repr'><svg class='icon xr-icon-database'><use xlink:href='#icon-database'></use></svg></label><div class='xr-var-attrs'><dl class='xr-attrs'></dl></div><div class='xr-var-data'><pre>array([&#x27;2003-01-01T00:00:00.000000000&#x27;, &#x27;2003-01-02T00:00:00.000000000&#x27;,\n",
              "       &#x27;2003-01-03T00:00:00.000000000&#x27;, ..., &#x27;2016-12-29T00:00:00.000000000&#x27;,\n",
              "       &#x27;2016-12-30T00:00:00.000000000&#x27;, &#x27;2016-12-31T00:00:00.000000000&#x27;],\n",
              "      dtype=&#x27;datetime64[ns]&#x27;)</pre></div></li><li class='xr-var-item'><div class='xr-var-name'><span class='xr-has-index'>lat</span></div><div class='xr-var-dims'>(lat)</div><div class='xr-var-dtype'>float64</div><div class='xr-var-preview xr-preview'>28.62 28.61 28.6 ... 27.99 27.98</div><input id='attrs-3266787f-5888-4f0f-93d6-ed8b5ba82adc' class='xr-var-attrs-in' type='checkbox' disabled><label for='attrs-3266787f-5888-4f0f-93d6-ed8b5ba82adc' title='Show/Hide attributes'><svg class='icon xr-icon-file-text2'><use xlink:href='#icon-file-text2'></use></svg></label><input id='data-bd4a8d0f-b212-44f9-ae7e-7fd0d689190a' class='xr-var-data-in' type='checkbox'><label for='data-bd4a8d0f-b212-44f9-ae7e-7fd0d689190a' title='Show/Hide data repr'><svg class='icon xr-icon-database'><use xlink:href='#icon-database'></use></svg></label><div class='xr-var-attrs'><dl class='xr-attrs'></dl></div><div class='xr-var-data'><pre>array([28.615844, 28.607532, 28.599221, 28.590909, 28.582597, 28.574286,\n",
              "       28.565974, 28.557662, 28.549351, 28.541039, 28.532727, 28.524416,\n",
              "       28.516104, 28.507792, 28.499481, 28.491169, 28.482857, 28.474545,\n",
              "       28.466234, 28.457922, 28.44961 , 28.441299, 28.432987, 28.424675,\n",
              "       28.416364, 28.408052, 28.39974 , 28.391429, 28.383117, 28.374805,\n",
              "       28.366494, 28.358182, 28.34987 , 28.341558, 28.333247, 28.324935,\n",
              "       28.316623, 28.308312, 28.3     , 28.291688, 28.283377, 28.275065,\n",
              "       28.266753, 28.258442, 28.25013 , 28.241818, 28.233506, 28.225195,\n",
              "       28.216883, 28.208571, 28.20026 , 28.191948, 28.183636, 28.175325,\n",
              "       28.167013, 28.158701, 28.15039 , 28.142078, 28.133766, 28.125455,\n",
              "       28.117143, 28.108831, 28.100519, 28.092208, 28.083896, 28.075584,\n",
              "       28.067273, 28.058961, 28.050649, 28.042338, 28.034026, 28.025714,\n",
              "       28.017403, 28.009091, 28.000779, 27.992468, 27.984156])</pre></div></li><li class='xr-var-item'><div class='xr-var-name'><span class='xr-has-index'>lon</span></div><div class='xr-var-dims'>(lon)</div><div class='xr-var-dtype'>float64</div><div class='xr-var-preview xr-preview'>-16.95 -16.94 ... -16.1 -16.09</div><input id='attrs-d3447441-4c50-484e-a61d-1619e8eb5a5c' class='xr-var-attrs-in' type='checkbox' disabled><label for='attrs-d3447441-4c50-484e-a61d-1619e8eb5a5c' title='Show/Hide attributes'><svg class='icon xr-icon-file-text2'><use xlink:href='#icon-file-text2'></use></svg></label><input id='data-af29eda9-e45a-47ab-9b34-12bc98cba149' class='xr-var-data-in' type='checkbox'><label for='data-af29eda9-e45a-47ab-9b34-12bc98cba149' title='Show/Hide data repr'><svg class='icon xr-icon-database'><use xlink:href='#icon-database'></use></svg></label><div class='xr-var-attrs'><dl class='xr-attrs'></dl></div><div class='xr-var-data'><pre>array([-16.945825, -16.937476, -16.929126, -16.920777, -16.912427, -16.904078,\n",
              "       -16.895728, -16.887379, -16.879029, -16.87068 , -16.86233 , -16.853981,\n",
              "       -16.845631, -16.837282, -16.828932, -16.820583, -16.812233, -16.803883,\n",
              "       -16.795534, -16.787184, -16.778835, -16.770485, -16.762136, -16.753786,\n",
              "       -16.745437, -16.737087, -16.728738, -16.720388, -16.712039, -16.703689,\n",
              "       -16.69534 , -16.68699 , -16.678641, -16.670291, -16.661942, -16.653592,\n",
              "       -16.645243, -16.636893, -16.628544, -16.620194, -16.611845, -16.603495,\n",
              "       -16.595146, -16.586796, -16.578447, -16.570097, -16.561748, -16.553398,\n",
              "       -16.545049, -16.536699, -16.52835 , -16.52    , -16.51165 , -16.503301,\n",
              "       -16.494951, -16.486602, -16.478252, -16.469903, -16.461553, -16.453204,\n",
              "       -16.444854, -16.436505, -16.428155, -16.419806, -16.411456, -16.403107,\n",
              "       -16.394757, -16.386408, -16.378058, -16.369709, -16.361359, -16.35301 ,\n",
              "       -16.34466 , -16.336311, -16.327961, -16.319612, -16.311262, -16.302913,\n",
              "       -16.294563, -16.286214, -16.277864, -16.269515, -16.261165, -16.252816,\n",
              "       -16.244466, -16.236117, -16.227767, -16.219417, -16.211068, -16.202718,\n",
              "       -16.194369, -16.186019, -16.17767 , -16.16932 , -16.160971, -16.152621,\n",
              "       -16.144272, -16.135922, -16.127573, -16.119223, -16.110874, -16.102524,\n",
              "       -16.094175])</pre></div></li></ul></div></li><li class='xr-section-item'><input id='section-8c25b56b-942b-4046-8017-f6c8dc956e25' class='xr-section-summary-in' type='checkbox'  checked><label for='section-8c25b56b-942b-4046-8017-f6c8dc956e25' class='xr-section-summary' >Data variables: <span>(1)</span></label><div class='xr-section-inline-details'></div><div class='xr-section-details'><ul class='xr-var-list'><li class='xr-var-item'><div class='xr-var-name'><span>tp</span></div><div class='xr-var-dims'>(time, lat, lon)</div><div class='xr-var-dtype'>float64</div><div class='xr-var-preview xr-preview'>...</div><input id='attrs-ef06e21b-2c9a-42e7-a120-96ab7d91dec2' class='xr-var-attrs-in' type='checkbox' disabled><label for='attrs-ef06e21b-2c9a-42e7-a120-96ab7d91dec2' title='Show/Hide attributes'><svg class='icon xr-icon-file-text2'><use xlink:href='#icon-file-text2'></use></svg></label><input id='data-f1ba8336-784a-4af9-828b-f7923bd7f205' class='xr-var-data-in' type='checkbox'><label for='data-f1ba8336-784a-4af9-828b-f7923bd7f205' title='Show/Hide data repr'><svg class='icon xr-icon-database'><use xlink:href='#icon-database'></use></svg></label><div class='xr-var-attrs'><dl class='xr-attrs'></dl></div><div class='xr-var-data'><pre>[40559134 values with dtype=float64]</pre></div></li></ul></div></li><li class='xr-section-item'><input id='section-f2bc8a63-143a-4bb1-b77c-d488bdaf4689' class='xr-section-summary-in' type='checkbox'  ><label for='section-f2bc8a63-143a-4bb1-b77c-d488bdaf4689' class='xr-section-summary' >Indexes: <span>(3)</span></label><div class='xr-section-inline-details'></div><div class='xr-section-details'><ul class='xr-var-list'><li class='xr-var-item'><div class='xr-index-name'><div>time</div></div><div class='xr-index-preview'>PandasIndex</div><input type='checkbox' disabled/><label></label><input id='index-bba78831-2cee-4b5e-9ef1-1baa18529df1' class='xr-index-data-in' type='checkbox'/><label for='index-bba78831-2cee-4b5e-9ef1-1baa18529df1' title='Show/Hide index repr'><svg class='icon xr-icon-database'><use xlink:href='#icon-database'></use></svg></label><div class='xr-index-data'><pre>PandasIndex(DatetimeIndex([&#x27;2003-01-01&#x27;, &#x27;2003-01-02&#x27;, &#x27;2003-01-03&#x27;, &#x27;2003-01-04&#x27;,\n",
              "               &#x27;2003-01-05&#x27;, &#x27;2003-01-06&#x27;, &#x27;2003-01-07&#x27;, &#x27;2003-01-08&#x27;,\n",
              "               &#x27;2003-01-09&#x27;, &#x27;2003-01-10&#x27;,\n",
              "               ...\n",
              "               &#x27;2016-12-22&#x27;, &#x27;2016-12-23&#x27;, &#x27;2016-12-24&#x27;, &#x27;2016-12-25&#x27;,\n",
              "               &#x27;2016-12-26&#x27;, &#x27;2016-12-27&#x27;, &#x27;2016-12-28&#x27;, &#x27;2016-12-29&#x27;,\n",
              "               &#x27;2016-12-30&#x27;, &#x27;2016-12-31&#x27;],\n",
              "              dtype=&#x27;datetime64[ns]&#x27;, name=&#x27;time&#x27;, length=5114, freq=None))</pre></div></li><li class='xr-var-item'><div class='xr-index-name'><div>lat</div></div><div class='xr-index-preview'>PandasIndex</div><input type='checkbox' disabled/><label></label><input id='index-ff2f2c1d-469c-4f1f-b887-4c11a2945985' class='xr-index-data-in' type='checkbox'/><label for='index-ff2f2c1d-469c-4f1f-b887-4c11a2945985' title='Show/Hide index repr'><svg class='icon xr-icon-database'><use xlink:href='#icon-database'></use></svg></label><div class='xr-index-data'><pre>PandasIndex(Index([28.615844155844158,  28.60753246753247, 28.599220779220783,\n",
              "       28.590909090909093, 28.582597402597404, 28.574285714285715,\n",
              "        28.56597402597403,  28.55766233766234,  28.54935064935065,\n",
              "       28.541038961038964, 28.532727272727275, 28.524415584415586,\n",
              "       28.516103896103896,  28.50779220779221,  28.49948051948052,\n",
              "        28.49116883116883, 28.482857142857146, 28.474545454545456,\n",
              "       28.466233766233767, 28.457922077922078, 28.449610389610392,\n",
              "       28.441298701298702, 28.432987012987013, 28.424675324675327,\n",
              "       28.416363636363638,  28.40805194805195, 28.399740259740263,\n",
              "       28.391428571428573, 28.383116883116884, 28.374805194805194,\n",
              "        28.36649350649351,  28.35818181818182,  28.34987012987013,\n",
              "       28.341558441558444, 28.333246753246755, 28.324935064935065,\n",
              "       28.316623376623376,  28.30831168831169,               28.3,\n",
              "        28.29168831168831, 28.283376623376626, 28.275064935064936,\n",
              "       28.266753246753247, 28.258441558441557,  28.25012987012987,\n",
              "       28.241818181818182, 28.233506493506493, 28.225194805194807,\n",
              "       28.216883116883118, 28.208571428571428,  28.20025974025974,\n",
              "       28.191948051948053, 28.183636363636364, 28.175324675324674,\n",
              "        28.16701298701299,   28.1587012987013,  28.15038961038961,\n",
              "       28.142077922077924, 28.133766233766234, 28.125454545454545,\n",
              "       28.117142857142856,  28.10883116883117,  28.10051948051948,\n",
              "        28.09220779220779, 28.083896103896105, 28.075584415584416,\n",
              "       28.067272727272726, 28.058961038961037,  28.05064935064935,\n",
              "       28.042337662337662, 28.034025974025973, 28.025714285714287,\n",
              "       28.017402597402597, 28.009090909090908,  28.00077922077922,\n",
              "       27.992467532467533, 27.984155844155843],\n",
              "      dtype=&#x27;float64&#x27;, name=&#x27;lat&#x27;))</pre></div></li><li class='xr-var-item'><div class='xr-index-name'><div>lon</div></div><div class='xr-index-preview'>PandasIndex</div><input type='checkbox' disabled/><label></label><input id='index-d184fac8-81b7-4582-b9a3-0610ef271173' class='xr-index-data-in' type='checkbox'/><label for='index-d184fac8-81b7-4582-b9a3-0610ef271173' title='Show/Hide index repr'><svg class='icon xr-icon-database'><use xlink:href='#icon-database'></use></svg></label><div class='xr-index-data'><pre>PandasIndex(Index([-16.945825242718445, -16.937475728155338,  -16.92912621359223,\n",
              "       -16.920776699029126,  -16.91242718446602,  -16.90407766990291,\n",
              "       -16.895728155339803,   -16.8873786407767,  -16.87902912621359,\n",
              "       -16.870679611650484,\n",
              "       ...\n",
              "       -16.169320388349515, -16.160970873786408,   -16.1526213592233,\n",
              "       -16.144271844660196, -16.135922330097088,  -16.12757281553398,\n",
              "       -16.119223300970873,  -16.11087378640777,  -16.10252427184466,\n",
              "       -16.094174757281554],\n",
              "      dtype=&#x27;float64&#x27;, name=&#x27;lon&#x27;, length=103))</pre></div></li></ul></div></li><li class='xr-section-item'><input id='section-84f18dca-979f-4754-9c23-e6c84a50534a' class='xr-section-summary-in' type='checkbox'  checked><label for='section-84f18dca-979f-4754-9c23-e6c84a50534a' class='xr-section-summary' >Attributes: <span>(1)</span></label><div class='xr-section-inline-details'></div><div class='xr-section-details'><dl class='xr-attrs'><dt><span>units :</span></dt><dd>mm/d</dd></dl></div></li></ul></div></div>"
            ]
          },
          "metadata": {},
          "execution_count": 4
        }
      ]
    },
    {
      "cell_type": "code",
      "source": [
        "# create a array which only conains the years - we need this later\n",
        "years = daily_precipitation['time'].dt.year.values"
      ],
      "metadata": {
        "id": "25faEaqC3--_"
      },
      "execution_count": 5,
      "outputs": []
    },
    {
      "cell_type": "markdown",
      "source": [
        "#Generate precipitation maps\n",
        "\n",
        "Next, we will generate, plot, and save maps displaying the mean total annual precipitation and the mean annual variance of precipitation over the given time period."
      ],
      "metadata": {
        "id": "cZO7JO7z-kX5"
      }
    },
    {
      "cell_type": "code",
      "source": [
        "# Calcualte mean total annual precipitation\n",
        "# first group by year and sum up values\n",
        "annual_total_precipitation = daily_precipitation.groupby('time.year').sum(dim='time')\n",
        "# second calaculate the mean\n",
        "annual_total_precipitation_mean = annual_total_precipitation.mean(dim='year')"
      ],
      "metadata": {
        "id": "vvbAok3B4GFw"
      },
      "execution_count": 6,
      "outputs": []
    },
    {
      "cell_type": "code",
      "source": [
        "# Plot the map of mean total annual precipitation\n",
        "annual_total_precipitation_mean['tp'].plot.imshow()\n",
        "plt.title('Mean Total Annual Precipitation')\n",
        "plt.xlabel('Longitude')\n",
        "plt.ylabel('Latitude')\n",
        "plt.show()"
      ],
      "metadata": {
        "id": "iV9kj9IM4Rxk",
        "outputId": "b7e29cf0-894b-4b53-8a84-e5c1b63ba59f",
        "colab": {
          "base_uri": "https://localhost:8080/",
          "height": 472
        }
      },
      "execution_count": 7,
      "outputs": [
        {
          "output_type": "display_data",
          "data": {
            "text/plain": [
              "<Figure size 640x480 with 2 Axes>"
            ],
            "image/png": "[encoded data removed]"
          },
          "metadata": {}
        }
      ]
    },
    {
      "cell_type": "code",
      "source": [
        "# Calcualte mean annual variance of precipitation\n",
        "annual_var_precipitation = daily_precipitation.groupby('time.year').var(dim='time')\n",
        "annual_var_precipitation_mean = annual_var_precipitation.mean(dim='year')"
      ],
      "metadata": {
        "id": "NXw8vMAv4UiV"
      },
      "execution_count": 8,
      "outputs": []
    },
    {
      "cell_type": "code",
      "source": [
        "# Plot the map of mean annual variance precipitation\n",
        "annual_var_precipitation_mean['tp'].plot.imshow()\n",
        "plt.title('Mean Annual Variance of Precipitation')\n",
        "plt.xlabel('Longitude')\n",
        "plt.ylabel('Latitude')\n",
        "plt.show()"
      ],
      "metadata": {
        "id": "W95Tk6Ci4ab6",
        "outputId": "188713c7-7b64-4987-a9f8-6a0fcce5f789",
        "colab": {
          "base_uri": "https://localhost:8080/",
          "height": 472
        }
      },
      "execution_count": 9,
      "outputs": [
        {
          "output_type": "display_data",
          "data": {
            "text/plain": [
              "<Figure size 640x480 with 2 Axes>"
            ],
            "image/png": "[encoded data removed]"
          },
          "metadata": {}
        }
      ]
    },
    {
      "cell_type": "code",
      "source": [
        "# Store the mean and variance maps as netcdf file\n",
        "filename = 'CHELSA_Tenerife_mean_total_precipitation_'  + str(years[0]) + '_' + str(years[-1]) + '.nc'\n",
        "annual_total_precipitation_mean.to_netcdf(filename)\n",
        "filename = 'CHELSA_Tenerife_mean_variance_precipitation_'  + str(years[0]) + '_' + str(years[-1]) + '.nc'\n",
        "annual_var_precipitation_mean.to_netcdf(filename)"
      ],
      "metadata": {
        "id": "GQ8ygdeX5Czs"
      },
      "execution_count": 10,
      "outputs": []
    },
    {
      "cell_type": "markdown",
      "source": [
        "# **Extreme Value Analysis**\n",
        "\n",
        "In this section, we will perform an **Extreme Value Analysis (EVA)** to assess extreme precipitation events. The following steps will be carried out:\n",
        "\n",
        "- **Calculate the block maxima** with an **annual frequency** for each pixel.\n",
        "- **Fit the Generalized Extreme Value (GEV) distribution** to these maxima for each pixel. *(Note: Depending on the selected method, this step may take some time to compute.)*\n",
        "- **Estimate extreme precipitation events** corresponding to **5-, 15-, 25-, and 50-year return periods**.\n",
        "- **Generate complete maps** of expected extreme precipitation events using **QGIS**, incorporating the **Tenerife Shapefile** for spatial context.\n",
        "\n",
        "To accomplish this, we will utilize the [**xclim library**](https://xclim.readthedocs.io/en/stable/notebooks/frequency_analysis.html), which is already imported in the script header. This library provides specialized tools for climate indices and frequency analysis, facilitating our calculations."
      ],
      "metadata": {
        "id": "HPCAKoYl5i5h"
      }
    },
    {
      "cell_type": "code",
      "source": [
        "# Use the libary xclim (https://xclim.readthedocs.io/en/stable/notebooks/frequency_analysis.html)\n",
        "# to optain the Block Maxima with yearly frequency"
      ],
      "metadata": {
        "id": "ruyPDqGN5mVd"
      },
      "execution_count": null,
      "outputs": []
    },
    {
      "cell_type": "code",
      "source": [
        "# We use the xclim libary to fit GEV function (dist=dist.gev)\n",
        "# Therefore, we can select from a broad range of fitting methods:\n",
        "# - Maximum Likelihood algorithm (method=\"ML\") - Default but very sensetive to outliers\n",
        "# - Method of Moments (method=\"MM\") - not working with our data\n",
        "# - Maximum Likelihood Estimation (method=\"MLE\") - kind of similar but diffrent to ML\n",
        "# - Probability Weighted Moments (method=\"PWM\") - More robust to oulierts!\n",
        "# PWM is well suited for small samples which in our case make it the prefered method."
      ],
      "metadata": {
        "id": "fbYjMIS355HM"
      },
      "execution_count": null,
      "outputs": []
    },
    {
      "cell_type": "code",
      "source": [
        "# We use the xclim libary to extract the quantile value for a given return period\n",
        "# as input we need:\n",
        "# - the previously fitted parameters (params) of the distribution function\n",
        "# - the quatinetile we are interested in which relates to the probability of excedance (q = 1-P = 1-1/tau)"
      ],
      "metadata": {
        "id": "HsPita0a7ixE"
      },
      "execution_count": null,
      "outputs": []
    },
    {
      "cell_type": "code",
      "source": [
        "# Plotting the map of expected extreme precipitation of a given return period (RP)\n",
        "\n",
        "# Befor plotting and saving as 2D map we have to select a quatile - other wise it is a 3D data cube\n",
        "\n",
        "# Plot mean annual probability precipitation events > threshold"
      ],
      "metadata": {
        "id": "glVpzEJw7o-B"
      },
      "execution_count": null,
      "outputs": []
    },
    {
      "cell_type": "code",
      "source": [
        "# Save map as netcdf files"
      ],
      "metadata": {
        "id": "AjPex1dEAm4P"
      },
      "execution_count": null,
      "outputs": []
    },
    {
      "cell_type": "code",
      "source": [
        "# Plotting the map of expected extreme precipitation of a given return period (RP)\n",
        "\n",
        "# Befor plotting and saving as 2D map we have to select a quatile - other wise it is a 3D data cube\n",
        "idx_q_sel = 0\n",
        "pq2d = pq.sel(quantile=pq['quantile'][idx_q_sel], drop=True)\n",
        "\n",
        "# Plot mean annual probability precipitation events > threshold\n",
        "pq2d['tp'].plot.imshow()\n",
        "plt.title('Extreme Precipitation Event RP: ' + str(return_period[idx_q_sel]) + 'yr')\n",
        "plt.xlabel('Longitude')\n",
        "plt.ylabel('Latitude')\n",
        "plt.show()"
      ],
      "metadata": {
        "id": "ZSMcdxt_k4TJ"
      },
      "execution_count": null,
      "outputs": []
    }
  ]
}