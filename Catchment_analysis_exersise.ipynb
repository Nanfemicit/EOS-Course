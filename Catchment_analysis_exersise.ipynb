{
  "nbformat": 4,
  "nbformat_minor": 0,
  "metadata": {
    "colab": {
      "provenance": [],
      "include_colab_link": true
    },
    "kernelspec": {
      "name": "python3",
      "display_name": "Python 3"
    },
    "language_info": {
      "name": "python"
    }
  },
  "cells": [
    {
      "cell_type": "markdown",
      "metadata": {
        "id": "view-in-github",
        "colab_type": "text"
      },
      "source": [
        "<a href=\"https://colab.research.google.com/github/Nanfemicit/EOS-Course/blob/main/Catchment_analysis_exersise.ipynb\" target=\"_parent\"><img src=\"https://colab.research.google.com/assets/colab-badge.svg\" alt=\"Open In Colab\"/></a>"
      ]
    },
    {
      "cell_type": "markdown",
      "source": [],
      "metadata": {
        "id": "C1TQQcZjcRsY"
      }
    },
    {
      "cell_type": "code",
      "execution_count": null,
      "metadata": {
        "colab": {
          "base_uri": "https://localhost:8080/"
        },
        "collapsed": true,
        "id": "nXVUBGoUcG9H",
        "outputId": "389589a9-88fe-44c4-c9d6-dec5b5800d70"
      },
      "outputs": [
        {
          "output_type": "stream",
          "name": "stdout",
          "text": [
            "Requirement already satisfied: pysheds in /usr/local/lib/python3.11/dist-packages (0.4)\n",
            "Requirement already satisfied: affine in /usr/local/lib/python3.11/dist-packages (from pysheds) (2.4.0)\n",
            "Requirement already satisfied: geojson in /usr/local/lib/python3.11/dist-packages (from pysheds) (3.2.0)\n",
            "Requirement already satisfied: looseversion in /usr/local/lib/python3.11/dist-packages (from pysheds) (1.3.0)\n",
            "Requirement already satisfied: numba in /usr/local/lib/python3.11/dist-packages (from pysheds) (0.60.0)\n",
            "Requirement already satisfied: numpy in /usr/local/lib/python3.11/dist-packages (from pysheds) (1.26.4)\n",
            "Requirement already satisfied: pandas in /usr/local/lib/python3.11/dist-packages (from pysheds) (2.2.2)\n",
            "Requirement already satisfied: pyproj in /usr/local/lib/python3.11/dist-packages (from pysheds) (3.7.0)\n",
            "Requirement already satisfied: rasterio>=1 in /usr/local/lib/python3.11/dist-packages (from pysheds) (1.4.3)\n",
            "Requirement already satisfied: scikit-image in /usr/local/lib/python3.11/dist-packages (from pysheds) (0.25.1)\n",
            "Requirement already satisfied: scipy in /usr/local/lib/python3.11/dist-packages (from pysheds) (1.13.1)\n",
            "Requirement already satisfied: attrs in /usr/local/lib/python3.11/dist-packages (from rasterio>=1->pysheds) (25.1.0)\n",
            "Requirement already satisfied: certifi in /usr/local/lib/python3.11/dist-packages (from rasterio>=1->pysheds) (2024.12.14)\n",
            "Requirement already satisfied: click>=4.0 in /usr/local/lib/python3.11/dist-packages (from rasterio>=1->pysheds) (8.1.8)\n",
            "Requirement already satisfied: cligj>=0.5 in /usr/local/lib/python3.11/dist-packages (from rasterio>=1->pysheds) (0.7.2)\n",
            "Requirement already satisfied: click-plugins in /usr/local/lib/python3.11/dist-packages (from rasterio>=1->pysheds) (1.1.1)\n",
            "Requirement already satisfied: pyparsing in /usr/local/lib/python3.11/dist-packages (from rasterio>=1->pysheds) (3.2.1)\n",
            "Requirement already satisfied: llvmlite<0.44,>=0.43.0dev0 in /usr/local/lib/python3.11/dist-packages (from numba->pysheds) (0.43.0)\n",
            "Requirement already satisfied: python-dateutil>=2.8.2 in /usr/local/lib/python3.11/dist-packages (from pandas->pysheds) (2.8.2)\n",
            "Requirement already satisfied: pytz>=2020.1 in /usr/local/lib/python3.11/dist-packages (from pandas->pysheds) (2024.2)\n",
            "Requirement already satisfied: tzdata>=2022.7 in /usr/local/lib/python3.11/dist-packages (from pandas->pysheds) (2025.1)\n",
            "Requirement already satisfied: networkx>=3.0 in /usr/local/lib/python3.11/dist-packages (from scikit-image->pysheds) (3.4.2)\n",
            "Requirement already satisfied: pillow>=10.1 in /usr/local/lib/python3.11/dist-packages (from scikit-image->pysheds) (11.1.0)\n",
            "Requirement already satisfied: imageio!=2.35.0,>=2.33 in /usr/local/lib/python3.11/dist-packages (from scikit-image->pysheds) (2.36.1)\n",
            "Requirement already satisfied: tifffile>=2022.8.12 in /usr/local/lib/python3.11/dist-packages (from scikit-image->pysheds) (2025.1.10)\n",
            "Requirement already satisfied: packaging>=21 in /usr/local/lib/python3.11/dist-packages (from scikit-image->pysheds) (24.2)\n",
            "Requirement already satisfied: lazy-loader>=0.4 in /usr/local/lib/python3.11/dist-packages (from scikit-image->pysheds) (0.4)\n",
            "Requirement already satisfied: six>=1.5 in /usr/local/lib/python3.11/dist-packages (from python-dateutil>=2.8.2->pandas->pysheds) (1.17.0)\n"
          ]
        }
      ],
      "source": [
        "!pip install pysheds"
      ]
    },
    {
      "cell_type": "code",
      "source": [
        "import rasterio\n",
        "from rasterio.transform import from_bounds\n",
        "\n",
        "from pysheds.grid import Grid\n",
        "\n",
        "import matplotlib.pyplot as plt\n",
        "from matplotlib import colors\n",
        "import seaborn as sns\n",
        "import numpy as np\n",
        "import rasterio\n",
        "import heapq\n",
        "import matplotlib.pyplot as plt\n",
        "import gdown"
      ],
      "metadata": {
        "id": "GYlYtZWncXvR"
      },
      "execution_count": null,
      "outputs": []
    },
    {
      "cell_type": "markdown",
      "source": [
        "# Download data"
      ],
      "metadata": {
        "id": "ovdNgmgFm8kj"
      }
    },
    {
      "cell_type": "code",
      "source": [
        "#'GOOGLE_DRIVE_LINK' to TIFF file\n",
        "url = 'https://drive.google.com/file/d/1ZS_dK3FfGm8syGeDppD1eu9m9aiCKPlM/view?usp=drive_link'\n",
        "# Download the TIFF file\n",
        "file_path = 'dem_Tenerife.tif'\n",
        "gdown.download(url, file_path, quiet=False, fuzzy=True)"
      ],
      "metadata": {
        "colab": {
          "base_uri": "https://localhost:8080/",
          "height": 105
        },
        "collapsed": true,
        "id": "tWYVXgZcdyb4",
        "outputId": "6c9e2f34-705d-4f2d-dc3c-2068cf01a370"
      },
      "execution_count": null,
      "outputs": [
        {
          "output_type": "stream",
          "name": "stderr",
          "text": [
            "Downloading...\n",
            "From: https://drive.google.com/uc?id=1ZS_dK3FfGm8syGeDppD1eu9m9aiCKPlM\n",
            "To: /content/dem_Tenerife.tif\n",
            "100%|██████████| 57.9M/57.9M [00:00<00:00, 109MB/s]\n"
          ]
        },
        {
          "output_type": "execute_result",
          "data": {
            "text/plain": [
              "'dem_Tenerife.tif'"
            ],
            "application/vnd.google.colaboratory.intrinsic+json": {
              "type": "string"
            }
          },
          "metadata": {},
          "execution_count": 46
        }
      ]
    },
    {
      "cell_type": "markdown",
      "source": [
        "# Load Digital Elevation Model (DEM)"
      ],
      "metadata": {
        "id": "NYBxq7sknGVw"
      }
    },
    {
      "cell_type": "code",
      "source": [
        "#Load DEM file\n",
        "dem_file = 'dem_Tenerife.tif'\n",
        "# Load the DEM data\n",
        "grid = Grid.from_raster(dem_file, data_name='dem')\n",
        "dem = grid.read_raster(dem_file)\n",
        "grid"
      ],
      "metadata": {
        "id": "wv9jsb_rg3l4"
      },
      "execution_count": null,
      "outputs": []
    },
    {
      "cell_type": "markdown",
      "source": [
        "# Prepare DEM for flow analysis"
      ],
      "metadata": {
        "id": "LSWaXsaInPTH"
      }
    },
    {
      "cell_type": "code",
      "source": [
        "# Condition DEM\n",
        "# ----------------------\n",
        "# Fill pits in DEM\n",
        "\n",
        "# Fill depressions in DEM\n",
        "\n",
        "# Resolve flats in DEM"
      ],
      "metadata": {
        "id": "L-Y09-fVhwRL"
      },
      "execution_count": null,
      "outputs": []
    },
    {
      "cell_type": "markdown",
      "source": [
        "# Analyse flow directions and accumulation"
      ],
      "metadata": {
        "id": "pA1aSJ5vnpDS"
      }
    },
    {
      "cell_type": "code",
      "source": [
        "# Compute flow directions - D8 flow directions\n",
        "# -------------------------------------\n"
      ],
      "metadata": {
        "id": "brqHRp6vh8QF"
      },
      "execution_count": null,
      "outputs": []
    },
    {
      "cell_type": "code",
      "source": [
        "# Calculate flow accumulation\n",
        "# --------------------------\n"
      ],
      "metadata": {
        "id": "aGRKHfCvh9_I"
      },
      "execution_count": null,
      "outputs": []
    },
    {
      "cell_type": "markdown",
      "source": [
        "We can use the flow accumulation field and load it in GIS to delinate the pure points in our study area"
      ],
      "metadata": {
        "id": "OCR1k7sfWbwe"
      }
    },
    {
      "cell_type": "code",
      "source": [
        "# We define a flow accumulation threshold to only extract the major stream network\n",
        "threshold = 1000  # Number of cells contributing to flow\n",
        "streams = (acc > threshold)*1.0  # Binary mask for stream network\n",
        "\n",
        "#Save flow accumulation\n",
        "grid.to_raster(streams,'flow_accumulation.tif')"
      ],
      "metadata": {
        "id": "d4wLu9u1WcsR"
      },
      "execution_count": null,
      "outputs": []
    },
    {
      "cell_type": "markdown",
      "source": [
        "# Delineate your catchment"
      ],
      "metadata": {
        "id": "5Z9pYJd5n_ZJ"
      }
    },
    {
      "cell_type": "code",
      "source": [
        "#-----------------------------------------------------------\n",
        "# Delineate a catchment\n",
        "# ----------------------------------------------------------\n",
        "#set pour point\n",
        "lon = 1\n",
        "lat = 1\n",
        "#-----------------------------------------------------------"
      ],
      "metadata": {
        "id": "7xxqvtTPiA4e"
      },
      "execution_count": null,
      "outputs": []
    },
    {
      "cell_type": "code",
      "source": [
        "# Snap pour point to high accumulation cell\n",
        "x_snap, y_snap = grid.snap_to_mask(acc > 1000, (lon, lat))\n",
        "\n",
        "# Delineate the catchment\n",
        "catch = grid.catchment(x=x_snap, y=y_snap, fdir=fdir, xytype='coordinate')"
      ],
      "metadata": {
        "id": "CGSqoFCbiDw5"
      },
      "execution_count": null,
      "outputs": []
    },
    {
      "cell_type": "code",
      "source": [
        "# Crop and plot the catchment\n",
        "# ---------------------------\n",
        "# Clip the bounding box to the catchment\n",
        "grid.clip_to(catch)\n",
        "clipped_catch = grid.view(catch)"
      ],
      "metadata": {
        "id": "A-Wn108xiPgX"
      },
      "execution_count": null,
      "outputs": []
    },
    {
      "cell_type": "code",
      "source": [
        "#Save catchment mask\n",
        "grid.to_raster(clipped_catch.astype(np.int32),'catchment.tif')"
      ],
      "metadata": {
        "id": "DT8VX9n7qiaP"
      },
      "execution_count": null,
      "outputs": []
    },
    {
      "cell_type": "markdown",
      "source": [
        "# Determine hydrological charateritics for the catchment"
      ],
      "metadata": {
        "id": "mq4ukBabo_Lo"
      }
    },
    {
      "cell_type": "code",
      "source": [
        "# Calculate distance to outlet from each cell\n",
        "# -------------------------------------------\n",
        "dist = grid.distance_to_outlet(x=x_snap, y=y_snap, fdir=fdir, xytype='coordinate')"
      ],
      "metadata": {
        "id": "Jplt2F5yjncA"
      },
      "execution_count": null,
      "outputs": []
    },
    {
      "cell_type": "code",
      "source": [
        "# Compute flow directions - D8 flow directions only for catchment\n",
        "# -------------------------------------\n",
        "fdir = grid.flowdir(inflated_dem)"
      ],
      "metadata": {
        "id": "Fpijxp-4joPq"
      },
      "execution_count": null,
      "outputs": []
    },
    {
      "cell_type": "markdown",
      "source": [
        "# A simple flow time model"
      ],
      "metadata": {
        "id": "EtxfPkYJpMNo"
      }
    },
    {
      "cell_type": "code",
      "source": [
        "#Specify grid cell size (here 20m)\n",
        "L = 20 #length (size) of a grid cell"
      ],
      "metadata": {
        "id": "eTi-29cbnjVn"
      },
      "execution_count": null,
      "outputs": []
    },
    {
      "cell_type": "code",
      "source": [
        "#drop in height to downstream cell"
      ],
      "metadata": {
        "id": "hiZa_E4VjxMu"
      },
      "execution_count": null,
      "outputs": []
    },
    {
      "cell_type": "code",
      "source": [
        "#plot the estimated flow time map"
      ],
      "metadata": {
        "id": "6dIBBjnAiRDp"
      },
      "execution_count": null,
      "outputs": []
    },
    {
      "cell_type": "markdown",
      "source": [
        "# Generate a flow rate (\"discharge\") diagram"
      ],
      "metadata": {
        "id": "xC5fIAp9pYM4"
      }
    },
    {
      "cell_type": "code",
      "source": [
        "# Flatten the 2D array to a 1D list\n",
        "flow_times = acc_t.flatten()\n",
        "\n",
        "# Remove NaN or infinite values\n",
        "flow_times = flow_times[np.isfinite(flow_times)]\n",
        "\n",
        "# Choose time step and unit conversion (options: \"seconds\", \"minutes\", \"hours\")\n",
        "time_unit = \"hours\"  # Change to \"seconds\" or \"hours\" as needed\n",
        "\n",
        "if time_unit == \"seconds\":\n",
        "    time_step = 10  # Bin width in seconds\n",
        "    time_label = \"Time to Outlet (seconds)\"\n",
        "elif time_unit == \"minutes\":\n",
        "    flow_times = flow_times / 60  # Convert to minutes\n",
        "    time_step = 1  # Bin width in minutes\n",
        "    time_label = \"Time to Outlet (minutes)\"\n",
        "elif time_unit == \"hours\":\n",
        "    flow_times = flow_times / 3600  # Convert to hours\n",
        "    time_step = 0.1  # Bin width in hours\n",
        "    time_label = \"Time to Outlet (hours)\"\n",
        "\n",
        "# Create bins for histogram\n",
        "max_time = np.max(flow_times)\n",
        "bins = np.arange(0, max_time + 2 * time_step, time_step)\n",
        "\n",
        "# Compute histogram of travel times\n",
        "discharge, bin_edges = np.histogram(flow_times, bins=bins)\n",
        "\n",
        "# Get time values (bin centers)\n",
        "times = bin_edges[:-1]"
      ],
      "metadata": {
        "id": "ilGgiKIIkufi"
      },
      "execution_count": null,
      "outputs": []
    },
    {
      "cell_type": "code",
      "source": [
        "# Plot the discharge curve\n",
        "plt.figure(figsize=(10, 5))\n",
        "plt.plot(times, discharge, marker='o', linestyle='-', color='b', label=\"Discharge\")\n",
        "plt.xlabel(time_label)\n",
        "plt.ylabel(\"Flow rate [cells]\")\n",
        "plt.title(\"Flow Rate Curve Over Time\")\n",
        "plt.grid(True)\n",
        "plt.legend()\n",
        "plt.show()"
      ],
      "metadata": {
        "id": "0hY2glLBk0A1"
      },
      "execution_count": null,
      "outputs": []
    }
  ]
}