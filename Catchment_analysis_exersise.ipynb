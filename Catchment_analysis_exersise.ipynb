{
  "nbformat": 4,
  "nbformat_minor": 0,
  "metadata": {
    "colab": {
      "provenance": [],
      "include_colab_link": true
    },
    "kernelspec": {
      "name": "python3",
      "display_name": "Python 3"
    },
    "language_info": {
      "name": "python"
    }
  },
  "cells": [
    {
      "cell_type": "markdown",
      "metadata": {
        "id": "view-in-github",
        "colab_type": "text"
      },
      "source": [
        "<a href=\"https://colab.research.google.com/github/Nanfemicit/EOS-Course/blob/main/Catchment_analysis_exersise.ipynb\" target=\"_parent\"><img src=\"https://colab.research.google.com/assets/colab-badge.svg\" alt=\"Open In Colab\"/></a>"
      ]
    },
    {
      "cell_type": "markdown",
      "source": [],
      "metadata": {
        "id": "C1TQQcZjcRsY"
      }
    },
    {
      "cell_type": "code",
      "execution_count": 2,
      "metadata": {
        "colab": {
          "base_uri": "https://localhost:8080/"
        },
        "collapsed": true,
        "id": "nXVUBGoUcG9H",
        "outputId": "9cf54613-f6a1-4da0-f3c2-2034c583d93e"
      },
      "outputs": [
        {
          "output_type": "stream",
          "name": "stdout",
          "text": [
            "Collecting pysheds\n",
            "  Downloading pysheds-0.4.tar.gz (91 kB)\n",
            "\u001b[2K     \u001b[90m━━━━━━━━━━━━━━━━━━━━━━━━━━━━━━━━━━━━━━━━\u001b[0m \u001b[32m91.5/91.5 kB\u001b[0m \u001b[31m1.6 MB/s\u001b[0m eta \u001b[36m0:00:00\u001b[0m\n",
            "\u001b[?25h  Preparing metadata (setup.py) ... \u001b[?25l\u001b[?25hdone\n",
            "Collecting affine (from pysheds)\n",
            "  Downloading affine-2.4.0-py3-none-any.whl.metadata (4.0 kB)\n",
            "Collecting geojson (from pysheds)\n",
            "  Downloading geojson-3.2.0-py3-none-any.whl.metadata (16 kB)\n",
            "Collecting looseversion (from pysheds)\n",
            "  Downloading looseversion-1.3.0-py2.py3-none-any.whl.metadata (4.6 kB)\n",
            "Requirement already satisfied: numba in /usr/local/lib/python3.11/dist-packages (from pysheds) (0.60.0)\n",
            "Requirement already satisfied: numpy in /usr/local/lib/python3.11/dist-packages (from pysheds) (1.26.4)\n",
            "Requirement already satisfied: pandas in /usr/local/lib/python3.11/dist-packages (from pysheds) (2.2.2)\n",
            "Requirement already satisfied: pyproj in /usr/local/lib/python3.11/dist-packages (from pysheds) (3.7.0)\n",
            "Collecting rasterio>=1 (from pysheds)\n",
            "  Downloading rasterio-1.4.3-cp311-cp311-manylinux_2_17_x86_64.manylinux2014_x86_64.whl.metadata (9.1 kB)\n",
            "Requirement already satisfied: scikit-image in /usr/local/lib/python3.11/dist-packages (from pysheds) (0.25.1)\n",
            "Requirement already satisfied: scipy in /usr/local/lib/python3.11/dist-packages (from pysheds) (1.13.1)\n",
            "Requirement already satisfied: attrs in /usr/local/lib/python3.11/dist-packages (from rasterio>=1->pysheds) (25.1.0)\n",
            "Requirement already satisfied: certifi in /usr/local/lib/python3.11/dist-packages (from rasterio>=1->pysheds) (2024.12.14)\n",
            "Requirement already satisfied: click>=4.0 in /usr/local/lib/python3.11/dist-packages (from rasterio>=1->pysheds) (8.1.8)\n",
            "Collecting cligj>=0.5 (from rasterio>=1->pysheds)\n",
            "  Downloading cligj-0.7.2-py3-none-any.whl.metadata (5.0 kB)\n",
            "Collecting click-plugins (from rasterio>=1->pysheds)\n",
            "  Downloading click_plugins-1.1.1-py2.py3-none-any.whl.metadata (6.4 kB)\n",
            "Requirement already satisfied: pyparsing in /usr/local/lib/python3.11/dist-packages (from rasterio>=1->pysheds) (3.2.1)\n",
            "Requirement already satisfied: llvmlite<0.44,>=0.43.0dev0 in /usr/local/lib/python3.11/dist-packages (from numba->pysheds) (0.43.0)\n",
            "Requirement already satisfied: python-dateutil>=2.8.2 in /usr/local/lib/python3.11/dist-packages (from pandas->pysheds) (2.8.2)\n",
            "Requirement already satisfied: pytz>=2020.1 in /usr/local/lib/python3.11/dist-packages (from pandas->pysheds) (2024.2)\n",
            "Requirement already satisfied: tzdata>=2022.7 in /usr/local/lib/python3.11/dist-packages (from pandas->pysheds) (2025.1)\n",
            "Requirement already satisfied: networkx>=3.0 in /usr/local/lib/python3.11/dist-packages (from scikit-image->pysheds) (3.4.2)\n",
            "Requirement already satisfied: pillow>=10.1 in /usr/local/lib/python3.11/dist-packages (from scikit-image->pysheds) (11.1.0)\n",
            "Requirement already satisfied: imageio!=2.35.0,>=2.33 in /usr/local/lib/python3.11/dist-packages (from scikit-image->pysheds) (2.36.1)\n",
            "Requirement already satisfied: tifffile>=2022.8.12 in /usr/local/lib/python3.11/dist-packages (from scikit-image->pysheds) (2025.1.10)\n",
            "Requirement already satisfied: packaging>=21 in /usr/local/lib/python3.11/dist-packages (from scikit-image->pysheds) (24.2)\n",
            "Requirement already satisfied: lazy-loader>=0.4 in /usr/local/lib/python3.11/dist-packages (from scikit-image->pysheds) (0.4)\n",
            "Requirement already satisfied: six>=1.5 in /usr/local/lib/python3.11/dist-packages (from python-dateutil>=2.8.2->pandas->pysheds) (1.17.0)\n",
            "Downloading rasterio-1.4.3-cp311-cp311-manylinux_2_17_x86_64.manylinux2014_x86_64.whl (22.2 MB)\n",
            "\u001b[2K   \u001b[90m━━━━━━━━━━━━━━━━━━━━━━━━━━━━━━━━━━━━━━━━\u001b[0m \u001b[32m22.2/22.2 MB\u001b[0m \u001b[31m11.8 MB/s\u001b[0m eta \u001b[36m0:00:00\u001b[0m\n",
            "\u001b[?25hDownloading affine-2.4.0-py3-none-any.whl (15 kB)\n",
            "Downloading geojson-3.2.0-py3-none-any.whl (15 kB)\n",
            "Downloading looseversion-1.3.0-py2.py3-none-any.whl (8.2 kB)\n",
            "Downloading cligj-0.7.2-py3-none-any.whl (7.1 kB)\n",
            "Downloading click_plugins-1.1.1-py2.py3-none-any.whl (7.5 kB)\n",
            "Building wheels for collected packages: pysheds\n",
            "  Building wheel for pysheds (setup.py) ... \u001b[?25l\u001b[?25hdone\n",
            "  Created wheel for pysheds: filename=pysheds-0.4-py3-none-any.whl size=90687 sha256=f9b6b0f24171f6a939db8681e0591c3cbebd35dc5f04e3cd4606ebe7cb767618\n",
            "  Stored in directory: /root/.cache/pip/wheels/a1/71/eb/89f783658494ca6676dd77fc1b54090a1b748f0055cea65f1c\n",
            "Successfully built pysheds\n",
            "Installing collected packages: looseversion, geojson, cligj, click-plugins, affine, rasterio, pysheds\n",
            "Successfully installed affine-2.4.0 click-plugins-1.1.1 cligj-0.7.2 geojson-3.2.0 looseversion-1.3.0 pysheds-0.4 rasterio-1.4.3\n"
          ]
        }
      ],
      "source": [
        "!pip install pysheds"
      ]
    },
    {
      "cell_type": "code",
      "source": [
        "import rasterio\n",
        "from rasterio.transform import from_bounds\n",
        "\n",
        "from pysheds.grid import Grid\n",
        "\n",
        "import matplotlib.pyplot as plt\n",
        "from matplotlib import colors\n",
        "import seaborn as sns\n",
        "import numpy as np\n",
        "import rasterio\n",
        "import heapq\n",
        "import matplotlib.pyplot as plt\n",
        "import gdown"
      ],
      "metadata": {
        "id": "GYlYtZWncXvR"
      },
      "execution_count": 3,
      "outputs": []
    },
    {
      "cell_type": "markdown",
      "source": [
        "# Download data"
      ],
      "metadata": {
        "id": "ovdNgmgFm8kj"
      }
    },
    {
      "cell_type": "code",
      "source": [
        "#'GOOGLE_DRIVE_LINK' to TIFF file\n",
        "url = 'https://drive.google.com/file/d/1ZS_dK3FfGm8syGeDppD1eu9m9aiCKPlM/view?usp=drive_link'\n",
        "# Download the TIFF file\n",
        "file_path = 'dem_Tenerife.tif'\n",
        "gdown.download(url, file_path, quiet=False, fuzzy=True)"
      ],
      "metadata": {
        "colab": {
          "base_uri": "https://localhost:8080/",
          "height": 110
        },
        "collapsed": true,
        "id": "tWYVXgZcdyb4",
        "outputId": "3a475ec9-5a95-4216-dc74-b324eecb2f0e"
      },
      "execution_count": 4,
      "outputs": [
        {
          "output_type": "stream",
          "name": "stderr",
          "text": [
            "Downloading...\n",
            "From: https://drive.google.com/uc?id=1ZS_dK3FfGm8syGeDppD1eu9m9aiCKPlM\n",
            "To: /content/dem_Tenerife.tif\n",
            "100%|██████████| 57.9M/57.9M [00:00<00:00, 194MB/s]\n"
          ]
        },
        {
          "output_type": "execute_result",
          "data": {
            "text/plain": [
              "'dem_Tenerife.tif'"
            ],
            "application/vnd.google.colaboratory.intrinsic+json": {
              "type": "string"
            }
          },
          "metadata": {},
          "execution_count": 4
        }
      ]
    },
    {
      "cell_type": "markdown",
      "source": [
        "# Load Digital Elevation Model (DEM)"
      ],
      "metadata": {
        "id": "NYBxq7sknGVw"
      }
    },
    {
      "cell_type": "code",
      "source": [
        "#Load DEM file\n",
        "dem_file = 'dem_Tenerife.tif'\n",
        "# Load the DEM data\n",
        "grid = Grid.from_raster(dem_file, data_name='dem')\n",
        "dem = grid.read_raster(dem_file)\n",
        "grid"
      ],
      "metadata": {
        "id": "wv9jsb_rg3l4",
        "outputId": "80ebb614-4b69-4058-8c21-c6a61396b262",
        "colab": {
          "base_uri": "https://localhost:8080/"
        }
      },
      "execution_count": 5,
      "outputs": [
        {
          "output_type": "stream",
          "name": "stderr",
          "text": [
            "WARNING:rasterio._env:CPLE_NotSupported in driver GTiff does not support open option DATA_NAME\n"
          ]
        },
        {
          "output_type": "execute_result",
          "data": {
            "text/plain": [
              "'affine' : Affine(0.00019500408558752487, 0.0, -16.928728857034894,\n",
              "       0.0, -0.00019500408558752487, 28.595181954426806)\n",
              "'shape' : (3079, 4179)\n",
              "'nodata' : 0.0\n",
              "'crs' : <Geographic 2D CRS: EPSG:4326>\n",
              "Name: WGS 84\n",
              "Axis Info [ellipsoidal]:\n",
              "- Lat[north]: Geodetic latitude (degree)\n",
              "- Lon[east]: Geodetic longitude (degree)\n",
              "Area of Use:\n",
              "- undefined\n",
              "Datum: World Geodetic System 1984\n",
              "- Ellipsoid: WGS 84\n",
              "- Prime Meridian: Greenwich\n",
              "\n",
              "'mask' : array([[ True,  True,  True, ...,  True,  True,  True],\n",
              "       [ True,  True,  True, ...,  True,  True,  True],\n",
              "       [ True,  True,  True, ...,  True,  True,  True],\n",
              "       ...,\n",
              "       [ True,  True,  True, ...,  True,  True,  True],\n",
              "       [ True,  True,  True, ...,  True,  True,  True],\n",
              "       [ True,  True,  True, ...,  True,  True,  True]])"
            ]
          },
          "metadata": {},
          "execution_count": 5
        }
      ]
    },
    {
      "cell_type": "markdown",
      "source": [
        "# Prepare DEM for flow analysis"
      ],
      "metadata": {
        "id": "LSWaXsaInPTH"
      }
    },
    {
      "cell_type": "code",
      "source": [
        "# Condition DEM\n",
        "# ----------------------\n",
        "# Fill pits in DEM\n",
        "\n",
        "# Fill depressions in DEM\n",
        "\n",
        "# Resolve flats in DEM\n",
        "# Fill sinks (pits and depressions)\n",
        "# Fill sinks (pits and depressions)\n",
        "# Fill depressions in DEM\n",
        "# Read the DEM data from the grid\n",
        "dem = grid.read_raster(dem_file)\n",
        "\n",
        "# Fill depressions in DEM\n",
        "filled_dem = grid.fill_depressions(dem)\n",
        "\n",
        "# Resolve flats in DEM\n",
        "processed_dem = grid.resolve_flats(filled_dem)\n"
      ],
      "metadata": {
        "id": "L-Y09-fVhwRL"
      },
      "execution_count": 6,
      "outputs": []
    },
    {
      "cell_type": "markdown",
      "source": [
        "# Analyse flow directions and accumulation"
      ],
      "metadata": {
        "id": "pA1aSJ5vnpDS"
      }
    },
    {
      "cell_type": "code",
      "source": [
        "# Compute flow direction\n",
        "fdir = grid.flowdir(processed_dem)\n"
      ],
      "metadata": {
        "id": "brqHRp6vh8QF"
      },
      "execution_count": 7,
      "outputs": []
    },
    {
      "cell_type": "code",
      "source": [
        "# Calculate flow accumulation\n",
        "acc = grid.accumulation(fdir)\n"
      ],
      "metadata": {
        "id": "aGRKHfCvh9_I"
      },
      "execution_count": 11,
      "outputs": []
    },
    {
      "cell_type": "markdown",
      "source": [
        "We can use the flow accumulation field and load it in GIS to delinate the pure points in our study area"
      ],
      "metadata": {
        "id": "OCR1k7sfWbwe"
      }
    },
    {
      "cell_type": "code",
      "source": [
        "# Define a flow accumulation threshold to extract major streams\n",
        "threshold = 1000  # Adjust this value based on your study area\n",
        "streams = (acc > threshold) * 1.0  # Convert to binary (1 = stream, 0 = non-stream)\n",
        "\n",
        "# Save the extracted stream network as a raster\n",
        "grid.to_raster(streams, 'stream_network.tif')\n",
        "\n",
        "print(\"Stream network raster saved successfully!\")\n"
      ],
      "metadata": {
        "id": "d4wLu9u1WcsR",
        "outputId": "69d0485a-c005-4134-c239-c06867b294b5",
        "colab": {
          "base_uri": "https://localhost:8080/"
        }
      },
      "execution_count": 12,
      "outputs": [
        {
          "output_type": "stream",
          "name": "stdout",
          "text": [
            "Stream network raster saved successfully!\n"
          ]
        }
      ]
    },
    {
      "cell_type": "markdown",
      "source": [
        "# Delineate your catchment"
      ],
      "metadata": {
        "id": "5Z9pYJd5n_ZJ"
      }
    },
    {
      "cell_type": "code",
      "source": [
        "#-----------------------------------------------------------\n",
        "# Delineate a catchment\n",
        "# ----------------------------------------------------------\n",
        "#set pour point\n",
        "lon = 1\n",
        "lat = 1\n",
        "#-----------------------------------------------------------"
      ],
      "metadata": {
        "id": "7xxqvtTPiA4e"
      },
      "execution_count": null,
      "outputs": []
    },
    {
      "cell_type": "code",
      "source": [
        "# Snap pour point to high accumulation cell\n",
        "x_snap, y_snap = grid.snap_to_mask(acc > 1000, (lon, lat))\n",
        "\n",
        "# Delineate the catchment\n",
        "catch = grid.catchment(x=x_snap, y=y_snap, fdir=fdir, xytype='coordinate')"
      ],
      "metadata": {
        "id": "CGSqoFCbiDw5"
      },
      "execution_count": null,
      "outputs": []
    },
    {
      "cell_type": "code",
      "source": [
        "# Crop and plot the catchment\n",
        "# ---------------------------\n",
        "# Clip the bounding box to the catchment\n",
        "grid.clip_to(catch)\n",
        "clipped_catch = grid.view(catch)"
      ],
      "metadata": {
        "id": "A-Wn108xiPgX"
      },
      "execution_count": null,
      "outputs": []
    },
    {
      "cell_type": "code",
      "source": [
        "#Save catchment mask\n",
        "grid.to_raster(clipped_catch.astype(np.int32),'catchment.tif')"
      ],
      "metadata": {
        "id": "DT8VX9n7qiaP"
      },
      "execution_count": null,
      "outputs": []
    },
    {
      "cell_type": "markdown",
      "source": [
        "# Determine hydrological charateritics for the catchment"
      ],
      "metadata": {
        "id": "mq4ukBabo_Lo"
      }
    },
    {
      "cell_type": "code",
      "source": [
        "# Calculate distance to outlet from each cell\n",
        "# -------------------------------------------\n",
        "dist = grid.distance_to_outlet(x=x_snap, y=y_snap, fdir=fdir, xytype='coordinate')"
      ],
      "metadata": {
        "id": "Jplt2F5yjncA"
      },
      "execution_count": null,
      "outputs": []
    },
    {
      "cell_type": "code",
      "source": [
        "# Compute flow directions - D8 flow directions only for catchment\n",
        "# -------------------------------------\n",
        "fdir = grid.flowdir(inflated_dem)"
      ],
      "metadata": {
        "id": "Fpijxp-4joPq"
      },
      "execution_count": null,
      "outputs": []
    },
    {
      "cell_type": "markdown",
      "source": [
        "# A simple flow time model"
      ],
      "metadata": {
        "id": "EtxfPkYJpMNo"
      }
    },
    {
      "cell_type": "code",
      "source": [
        "#Specify grid cell size (here 20m)\n",
        "L = 20 #length (size) of a grid cell"
      ],
      "metadata": {
        "id": "eTi-29cbnjVn"
      },
      "execution_count": null,
      "outputs": []
    },
    {
      "cell_type": "code",
      "source": [
        "#drop in height to downstream cell"
      ],
      "metadata": {
        "id": "hiZa_E4VjxMu"
      },
      "execution_count": null,
      "outputs": []
    },
    {
      "cell_type": "code",
      "source": [
        "#plot the estimated flow time map"
      ],
      "metadata": {
        "id": "6dIBBjnAiRDp"
      },
      "execution_count": null,
      "outputs": []
    },
    {
      "cell_type": "markdown",
      "source": [
        "# Generate a flow rate (\"discharge\") diagram"
      ],
      "metadata": {
        "id": "xC5fIAp9pYM4"
      }
    },
    {
      "cell_type": "code",
      "source": [
        "# Flatten the 2D array to a 1D list\n",
        "flow_times = acc_t.flatten()\n",
        "\n",
        "# Remove NaN or infinite values\n",
        "flow_times = flow_times[np.isfinite(flow_times)]\n",
        "\n",
        "# Choose time step and unit conversion (options: \"seconds\", \"minutes\", \"hours\")\n",
        "time_unit = \"hours\"  # Change to \"seconds\" or \"hours\" as needed\n",
        "\n",
        "if time_unit == \"seconds\":\n",
        "    time_step = 10  # Bin width in seconds\n",
        "    time_label = \"Time to Outlet (seconds)\"\n",
        "elif time_unit == \"minutes\":\n",
        "    flow_times = flow_times / 60  # Convert to minutes\n",
        "    time_step = 1  # Bin width in minutes\n",
        "    time_label = \"Time to Outlet (minutes)\"\n",
        "elif time_unit == \"hours\":\n",
        "    flow_times = flow_times / 3600  # Convert to hours\n",
        "    time_step = 0.1  # Bin width in hours\n",
        "    time_label = \"Time to Outlet (hours)\"\n",
        "\n",
        "# Create bins for histogram\n",
        "max_time = np.max(flow_times)\n",
        "bins = np.arange(0, max_time + 2 * time_step, time_step)\n",
        "\n",
        "# Compute histogram of travel times\n",
        "discharge, bin_edges = np.histogram(flow_times, bins=bins)\n",
        "\n",
        "# Get time values (bin centers)\n",
        "times = bin_edges[:-1]"
      ],
      "metadata": {
        "id": "ilGgiKIIkufi"
      },
      "execution_count": null,
      "outputs": []
    },
    {
      "cell_type": "code",
      "source": [
        "# Plot the discharge curve\n",
        "plt.figure(figsize=(10, 5))\n",
        "plt.plot(times, discharge, marker='o', linestyle='-', color='b', label=\"Discharge\")\n",
        "plt.xlabel(time_label)\n",
        "plt.ylabel(\"Flow rate [cells]\")\n",
        "plt.title(\"Flow Rate Curve Over Time\")\n",
        "plt.grid(True)\n",
        "plt.legend()\n",
        "plt.show()"
      ],
      "metadata": {
        "id": "0hY2glLBk0A1"
      },
      "execution_count": null,
      "outputs": []
    }
  ]
}