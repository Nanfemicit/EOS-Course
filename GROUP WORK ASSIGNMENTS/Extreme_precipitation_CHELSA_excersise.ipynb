{
  "nbformat": 4,
  "nbformat_minor": 0,
  "metadata": {
    "colab": {
      "provenance": []
    },
    "kernelspec": {
      "name": "python3",
      "display_name": "Python 3"
    },
    "language_info": {
      "name": "python"
    }
  },
  "cells": [
    {
      "cell_type": "markdown",
      "source": [
        "# Extrem value analysis Tenerife precipitation\n",
        "\n",
        "This script analyzes **spatial and temporal precipitation data** using **daily precipitation records**, focusing on **extreme value events**."
      ],
      "metadata": {
        "id": "6Y62kbbmCiGH"
      }
    },
    {
      "cell_type": "code",
      "source": [
        "#Install some libaries first!\n",
        "!pip install xclim\n",
        "!pip install lmoments3"
      ],
      "metadata": {
        "collapsed": true,
        "id": "s4oTOFXu2hav",
        "colab": {
          "base_uri": "https://localhost:8080/"
        },
        "outputId": "16808b78-536b-4063-b263-1463a8af8bf4"
      },
      "execution_count": null,
      "outputs": [
        {
          "output_type": "stream",
          "name": "stdout",
          "text": [
            "Collecting xclim\n",
            "  Downloading xclim-0.54.0-py3-none-any.whl.metadata (16 kB)\n",
            "Collecting boltons>=20.1 (from xclim)\n",
            "  Downloading boltons-25.0.0-py3-none-any.whl.metadata (6.5 kB)\n",
            "Requirement already satisfied: bottleneck>=1.3.1 in /usr/local/lib/python3.11/dist-packages (from xclim) (1.4.2)\n",
            "Collecting cf-xarray>=0.9.3 (from xclim)\n",
            "  Downloading cf_xarray-0.10.0-py3-none-any.whl.metadata (16 kB)\n",
            "Collecting cftime>=1.4.1 (from xclim)\n",
            "  Downloading cftime-1.6.4.post1-cp311-cp311-manylinux_2_17_x86_64.manylinux2014_x86_64.whl.metadata (8.7 kB)\n",
            "Requirement already satisfied: click>=8.1 in /usr/local/lib/python3.11/dist-packages (from xclim) (8.1.8)\n",
            "Requirement already satisfied: dask>=2024.8.1 in /usr/local/lib/python3.11/dist-packages (from dask[array]>=2024.8.1->xclim) (2024.10.0)\n",
            "Requirement already satisfied: filelock>=3.14.0 in /usr/local/lib/python3.11/dist-packages (from xclim) (3.17.0)\n",
            "Requirement already satisfied: jsonpickle>=3.1.0 in /usr/local/lib/python3.11/dist-packages (from xclim) (4.0.1)\n",
            "Requirement already satisfied: numba>=0.54.1 in /usr/local/lib/python3.11/dist-packages (from xclim) (0.60.0)\n",
            "Requirement already satisfied: numpy>=1.23.0 in /usr/local/lib/python3.11/dist-packages (from xclim) (1.26.4)\n",
            "Requirement already satisfied: packaging>=24.0 in /usr/local/lib/python3.11/dist-packages (from xclim) (24.2)\n",
            "Requirement already satisfied: pandas>=2.2 in /usr/local/lib/python3.11/dist-packages (from xclim) (2.2.2)\n",
            "Collecting pint>=0.24.4 (from xclim)\n",
            "  Downloading Pint-0.24.4-py3-none-any.whl.metadata (8.5 kB)\n",
            "Requirement already satisfied: pyarrow>=10.0.1 in /usr/local/lib/python3.11/dist-packages (from xclim) (17.0.0)\n",
            "Requirement already satisfied: pyyaml>=6.0.1 in /usr/local/lib/python3.11/dist-packages (from xclim) (6.0.2)\n",
            "Requirement already satisfied: scikit-learn>=1.1.0 in /usr/local/lib/python3.11/dist-packages (from xclim) (1.6.1)\n",
            "Requirement already satisfied: scipy>=1.9.0 in /usr/local/lib/python3.11/dist-packages (from xclim) (1.13.1)\n",
            "Requirement already satisfied: statsmodels>=0.14.2 in /usr/local/lib/python3.11/dist-packages (from xclim) (0.14.4)\n",
            "Requirement already satisfied: xarray!=2024.10.0,>=2023.11.0 in /usr/local/lib/python3.11/dist-packages (from xclim) (2025.1.1)\n",
            "Collecting yamale>=5.0.0 (from xclim)\n",
            "  Downloading yamale-6.0.0-py3-none-any.whl.metadata (22 kB)\n",
            "Requirement already satisfied: cloudpickle>=3.0.0 in /usr/local/lib/python3.11/dist-packages (from dask>=2024.8.1->dask[array]>=2024.8.1->xclim) (3.1.1)\n",
            "Requirement already satisfied: fsspec>=2021.09.0 in /usr/local/lib/python3.11/dist-packages (from dask>=2024.8.1->dask[array]>=2024.8.1->xclim) (2024.10.0)\n",
            "Requirement already satisfied: partd>=1.4.0 in /usr/local/lib/python3.11/dist-packages (from dask>=2024.8.1->dask[array]>=2024.8.1->xclim) (1.4.2)\n",
            "Requirement already satisfied: toolz>=0.10.0 in /usr/local/lib/python3.11/dist-packages (from dask>=2024.8.1->dask[array]>=2024.8.1->xclim) (0.12.1)\n",
            "Requirement already satisfied: importlib-metadata>=4.13.0 in /usr/local/lib/python3.11/dist-packages (from dask>=2024.8.1->dask[array]>=2024.8.1->xclim) (8.6.1)\n",
            "Requirement already satisfied: llvmlite<0.44,>=0.43.0dev0 in /usr/local/lib/python3.11/dist-packages (from numba>=0.54.1->xclim) (0.43.0)\n",
            "Requirement already satisfied: python-dateutil>=2.8.2 in /usr/local/lib/python3.11/dist-packages (from pandas>=2.2->xclim) (2.8.2)\n",
            "Requirement already satisfied: pytz>=2020.1 in /usr/local/lib/python3.11/dist-packages (from pandas>=2.2->xclim) (2024.2)\n",
            "Requirement already satisfied: tzdata>=2022.7 in /usr/local/lib/python3.11/dist-packages (from pandas>=2.2->xclim) (2025.1)\n",
            "Requirement already satisfied: platformdirs>=2.1.0 in /usr/local/lib/python3.11/dist-packages (from pint>=0.24.4->xclim) (4.3.6)\n",
            "Requirement already satisfied: typing-extensions>=4.0.0 in /usr/local/lib/python3.11/dist-packages (from pint>=0.24.4->xclim) (4.12.2)\n",
            "Collecting flexcache>=0.3 (from pint>=0.24.4->xclim)\n",
            "  Downloading flexcache-0.3-py3-none-any.whl.metadata (7.0 kB)\n",
            "Collecting flexparser>=0.4 (from pint>=0.24.4->xclim)\n",
            "  Downloading flexparser-0.4-py3-none-any.whl.metadata (18 kB)\n",
            "Requirement already satisfied: joblib>=1.2.0 in /usr/local/lib/python3.11/dist-packages (from scikit-learn>=1.1.0->xclim) (1.4.2)\n",
            "Requirement already satisfied: threadpoolctl>=3.1.0 in /usr/local/lib/python3.11/dist-packages (from scikit-learn>=1.1.0->xclim) (3.5.0)\n",
            "Requirement already satisfied: patsy>=0.5.6 in /usr/local/lib/python3.11/dist-packages (from statsmodels>=0.14.2->xclim) (1.0.1)\n",
            "Requirement already satisfied: zipp>=3.20 in /usr/local/lib/python3.11/dist-packages (from importlib-metadata>=4.13.0->dask>=2024.8.1->dask[array]>=2024.8.1->xclim) (3.21.0)\n",
            "Requirement already satisfied: locket in /usr/local/lib/python3.11/dist-packages (from partd>=1.4.0->dask>=2024.8.1->dask[array]>=2024.8.1->xclim) (1.0.0)\n",
            "Requirement already satisfied: six>=1.5 in /usr/local/lib/python3.11/dist-packages (from python-dateutil>=2.8.2->pandas>=2.2->xclim) (1.17.0)\n",
            "Downloading xclim-0.54.0-py3-none-any.whl (444 kB)\n",
            "\u001b[2K   \u001b[90m━━━━━━━━━━━━━━━━━━━━━━━━━━━━━━━━━━━━━━━━\u001b[0m \u001b[32m444.8/444.8 kB\u001b[0m \u001b[31m5.1 MB/s\u001b[0m eta \u001b[36m0:00:00\u001b[0m\n",
            "\u001b[?25hDownloading boltons-25.0.0-py3-none-any.whl (194 kB)\n",
            "\u001b[2K   \u001b[90m━━━━━━━━━━━━━━━━━━━━━━━━━━━━━━━━━━━━━━━━\u001b[0m \u001b[32m194.2/194.2 kB\u001b[0m \u001b[31m6.8 MB/s\u001b[0m eta \u001b[36m0:00:00\u001b[0m\n",
            "\u001b[?25hDownloading cf_xarray-0.10.0-py3-none-any.whl (69 kB)\n",
            "\u001b[2K   \u001b[90m━━━━━━━━━━━━━━━━━━━━━━━━━━━━━━━━━━━━━━━━\u001b[0m \u001b[32m69.8/69.8 kB\u001b[0m \u001b[31m3.6 MB/s\u001b[0m eta \u001b[36m0:00:00\u001b[0m\n",
            "\u001b[?25hDownloading cftime-1.6.4.post1-cp311-cp311-manylinux_2_17_x86_64.manylinux2014_x86_64.whl (1.4 MB)\n",
            "\u001b[2K   \u001b[90m━━━━━━━━━━━━━━━━━━━━━━━━━━━━━━━━━━━━━━━━\u001b[0m \u001b[32m1.4/1.4 MB\u001b[0m \u001b[31m28.8 MB/s\u001b[0m eta \u001b[36m0:00:00\u001b[0m\n",
            "\u001b[?25hDownloading Pint-0.24.4-py3-none-any.whl (302 kB)\n",
            "\u001b[2K   \u001b[90m━━━━━━━━━━━━━━━━━━━━━━━━━━━━━━━━━━━━━━━━\u001b[0m \u001b[32m302.0/302.0 kB\u001b[0m \u001b[31m10.1 MB/s\u001b[0m eta \u001b[36m0:00:00\u001b[0m\n",
            "\u001b[?25hDownloading yamale-6.0.0-py3-none-any.whl (57 kB)\n",
            "\u001b[2K   \u001b[90m━━━━━━━━━━━━━━━━━━━━━━━━━━━━━━━━━━━━━━━━\u001b[0m \u001b[32m57.9/57.9 kB\u001b[0m \u001b[31m3.2 MB/s\u001b[0m eta \u001b[36m0:00:00\u001b[0m\n",
            "\u001b[?25hDownloading flexcache-0.3-py3-none-any.whl (13 kB)\n",
            "Downloading flexparser-0.4-py3-none-any.whl (27 kB)\n",
            "Installing collected packages: yamale, flexparser, flexcache, cftime, boltons, pint, cf-xarray, xclim\n",
            "Successfully installed boltons-25.0.0 cf-xarray-0.10.0 cftime-1.6.4.post1 flexcache-0.3 flexparser-0.4 pint-0.24.4 xclim-0.54.0 yamale-6.0.0\n",
            "Collecting lmoments3\n",
            "  Downloading lmoments3-1.0.8-py3-none-any.whl.metadata (46 kB)\n",
            "\u001b[2K     \u001b[90m━━━━━━━━━━━━━━━━━━━━━━━━━━━━━━━━━━━━━━━━\u001b[0m \u001b[32m46.5/46.5 kB\u001b[0m \u001b[31m1.7 MB/s\u001b[0m eta \u001b[36m0:00:00\u001b[0m\n",
            "\u001b[?25hRequirement already satisfied: numpy in /usr/local/lib/python3.11/dist-packages (from lmoments3) (1.26.4)\n",
            "Requirement already satisfied: scipy in /usr/local/lib/python3.11/dist-packages (from lmoments3) (1.13.1)\n",
            "Downloading lmoments3-1.0.8-py3-none-any.whl (48 kB)\n",
            "\u001b[2K   \u001b[90m━━━━━━━━━━━━━━━━━━━━━━━━━━━━━━━━━━━━━━━━\u001b[0m \u001b[32m48.2/48.2 kB\u001b[0m \u001b[31m2.6 MB/s\u001b[0m eta \u001b[36m0:00:00\u001b[0m\n",
            "\u001b[?25hInstalling collected packages: lmoments3\n",
            "Successfully installed lmoments3-1.0.8\n"
          ]
        }
      ]
    },
    {
      "cell_type": "code",
      "execution_count": null,
      "metadata": {
        "collapsed": true,
        "id": "E7frwMgR2L50",
        "colab": {
          "base_uri": "https://localhost:8080/"
        },
        "outputId": "2e081f0b-ccd9-4cd8-f6d8-9bb277c1da21"
      },
      "outputs": [
        {
          "output_type": "stream",
          "name": "stderr",
          "text": [
            "WARNING:pint.util:Redefining 'percent' (<class 'pint.delegates.txt_defparser.plain.UnitDefinition'>)\n",
            "WARNING:pint.util:Redefining '%' (<class 'pint.delegates.txt_defparser.plain.UnitDefinition'>)\n",
            "WARNING:pint.util:Redefining 'year' (<class 'pint.delegates.txt_defparser.plain.UnitDefinition'>)\n",
            "WARNING:pint.util:Redefining 'yr' (<class 'pint.delegates.txt_defparser.plain.UnitDefinition'>)\n",
            "WARNING:pint.util:Redefining 'C' (<class 'pint.delegates.txt_defparser.plain.UnitDefinition'>)\n",
            "WARNING:pint.util:Redefining 'd' (<class 'pint.delegates.txt_defparser.plain.UnitDefinition'>)\n",
            "WARNING:pint.util:Redefining 'h' (<class 'pint.delegates.txt_defparser.plain.UnitDefinition'>)\n",
            "WARNING:pint.util:Redefining 'degrees_north' (<class 'pint.delegates.txt_defparser.plain.UnitDefinition'>)\n",
            "WARNING:pint.util:Redefining 'degrees_east' (<class 'pint.delegates.txt_defparser.plain.UnitDefinition'>)\n",
            "WARNING:pint.util:Redefining 'degrees' (<class 'pint.delegates.txt_defparser.plain.UnitDefinition'>)\n",
            "WARNING:pint.util:Redefining '[speed]' (<class 'pint.delegates.txt_defparser.plain.DerivedDimensionDefinition'>)\n"
          ]
        }
      ],
      "source": [
        "#Import need libaries\n",
        "import xarray as xr\n",
        "import numpy as np\n",
        "import matplotlib.pyplot as plt\n",
        "import seaborn as sns\n",
        "import scipy.stats as stats\n",
        "\n",
        "import lmoments3\n",
        "from lmoments3 import distr\n",
        "\n",
        "from xclim.core.missing import missing_pct\n",
        "from xclim.indices.generic import select_resample_op\n",
        "from xclim.indices.stats import fa, fit, frequency_analysis, parametric_quantile\n",
        "import gdown"
      ]
    },
    {
      "cell_type": "markdown",
      "source": [
        "#Download data\n",
        "\n",
        "We utilize precipitation data from [CHELSA](https://chelsa-climate.org/), a high-resolution climate dataset derived from downscaled ERA5 reanalysis data. A preprocessed dataset is available for download from Google Drive:"
      ],
      "metadata": {
        "id": "CS5BlL5e8mbI"
      }
    },
    {
      "cell_type": "code",
      "source": [
        "# Download CHELSA precipitation data from Google Drive\n",
        "#'GOOGLE_DRIVE_LINK' to NetCDF file\n",
        "url = 'https://drive.google.com/file/d/1Z9-YDydbsxFBq4Do43KaB3-Lyzm9dkpd/view?usp=drive_link'\n",
        "# Download the NetCDF file\n",
        "file_path = 'CHELSA_precipitation.nc'\n",
        "gdown.download(url, file_path, quiet=False, fuzzy=True)"
      ],
      "metadata": {
        "colab": {
          "base_uri": "https://localhost:8080/",
          "height": 122
        },
        "collapsed": true,
        "id": "sE7BhSbk2wGB",
        "outputId": "06262edc-7900-4cf8-b0ac-acab077af518"
      },
      "execution_count": null,
      "outputs": [
        {
          "output_type": "stream",
          "name": "stderr",
          "text": [
            "Downloading...\n",
            "From (original): https://drive.google.com/uc?id=1Z9-YDydbsxFBq4Do43KaB3-Lyzm9dkpd\n",
            "From (redirected): https://drive.google.com/uc?id=1Z9-YDydbsxFBq4Do43KaB3-Lyzm9dkpd&confirm=t&uuid=b234f8a5-3923-4788-a30c-64b6e9d11223\n",
            "To: /content/CHELSA_precipitation.nc\n",
            "100%|██████████| 325M/325M [00:10<00:00, 32.1MB/s]\n"
          ]
        },
        {
          "output_type": "execute_result",
          "data": {
            "text/plain": [
              "'CHELSA_precipitation.nc'"
            ],
            "application/vnd.google.colaboratory.intrinsic+json": {
              "type": "string"
            }
          },
          "metadata": {},
          "execution_count": 3
        }
      ]
    },
    {
      "cell_type": "markdown",
      "source": [
        "#Load data\n",
        "\n",
        "Since this dataset contains spatial and temporal data, forming a 3D data cube, we will use [XArray](https://docs.xarray.dev/en/stable/), a specialized data protocol designed for handling multi-dimensional scientific data efficiently. To begin, we will open the NetCDF file using XArray:"
      ],
      "metadata": {
        "id": "kqqJmoy79nr0"
      }
    },
    {
      "cell_type": "code",
      "source": [
        "#Load precipitation data as XArray\n",
        "daily_precipitation = xr.open_dataset(file_path)\n",
        "daily_precipitation"
      ],
      "metadata": {
        "id": "SrqRfh3Q3he-"
      },
      "execution_count": null,
      "outputs": []
    },
    {
      "cell_type": "code",
      "source": [
        "# create a array which only conains the years - we need this later\n",
        "years = daily_precipitation['time'].dt.year.values"
      ],
      "metadata": {
        "id": "25faEaqC3--_"
      },
      "execution_count": null,
      "outputs": []
    },
    {
      "cell_type": "markdown",
      "source": [
        "#Generate precipitation maps\n",
        "\n",
        "Next, we will generate, plot, and save maps displaying the mean total annual precipitation and the mean annual variance of precipitation over the given time period."
      ],
      "metadata": {
        "id": "cZO7JO7z-kX5"
      }
    },
    {
      "cell_type": "code",
      "source": [
        "# Calcualte mean total annual precipitation\n",
        "# first group by year and sum up values\n",
        "annual_total_precipitation = daily_precipitation.groupby('time.year').sum(dim='time')\n",
        "# second calaculate the mean\n",
        "annual_total_precipitation_mean = annual_total_precipitation.mean(dim='year')"
      ],
      "metadata": {
        "id": "vvbAok3B4GFw"
      },
      "execution_count": null,
      "outputs": []
    },
    {
      "cell_type": "code",
      "source": [
        "# Plot the map of mean total annual precipitation\n",
        "annual_total_precipitation_mean['tp'].plot.imshow()\n",
        "plt.title('Mean Total Annual Precipitation')\n",
        "plt.xlabel('Longitude')\n",
        "plt.ylabel('Latitude')\n",
        "plt.show()"
      ],
      "metadata": {
        "id": "iV9kj9IM4Rxk"
      },
      "execution_count": null,
      "outputs": []
    },
    {
      "cell_type": "code",
      "source": [
        "# Calcualte mean annual variance of precipitation\n",
        "annual_var_precipitation = daily_precipitation.groupby('time.year').var(dim='time')\n",
        "annual_var_precipitation_mean = annual_var_precipitation.mean(dim='year')"
      ],
      "metadata": {
        "id": "NXw8vMAv4UiV"
      },
      "execution_count": null,
      "outputs": []
    },
    {
      "cell_type": "code",
      "source": [
        "# Plot the map of mean annual variance precipitation\n",
        "annual_var_precipitation_mean['tp'].plot.imshow()\n",
        "plt.title('Mean Annual Variance of Precipitation')\n",
        "plt.xlabel('Longitude')\n",
        "plt.ylabel('Latitude')\n",
        "plt.show()"
      ],
      "metadata": {
        "id": "W95Tk6Ci4ab6"
      },
      "execution_count": null,
      "outputs": []
    },
    {
      "cell_type": "code",
      "source": [
        "# Store the mean and variance maps as netcdf file\n",
        "filename = 'CHELSA_Tenerife_mean_total_precipitation_'  + str(years[0]) + '_' + str(years[-1]) + '.nc'\n",
        "annual_total_precipitation_mean.to_netcdf(filename)\n",
        "filename = 'CHELSA_Tenerife_mean_variance_precipitation_'  + str(years[0]) + '_' + str(years[-1]) + '.nc'\n",
        "annual_var_precipitation_mean.to_netcdf(filename)"
      ],
      "metadata": {
        "id": "GQ8ygdeX5Czs"
      },
      "execution_count": null,
      "outputs": []
    },
    {
      "cell_type": "markdown",
      "source": [
        "# **Extreme Value Analysis**\n",
        "\n",
        "In this section, we will perform an **Extreme Value Analysis (EVA)** to assess extreme precipitation events. The following steps will be carried out:\n",
        "\n",
        "- **Calculate the block maxima** with an **annual frequency** for each pixel.\n",
        "- **Fit the Generalized Extreme Value (GEV) distribution** to these maxima for each pixel. *(Note: Depending on the selected method, this step may take some time to compute.)*\n",
        "- **Estimate extreme precipitation events** corresponding to **5-, 15-, 25-, and 50-year return periods**.\n",
        "- **Generate complete maps** of expected extreme precipitation events using **QGIS**, incorporating the **Tenerife Shapefile** for spatial context.\n",
        "\n",
        "To accomplish this, we will utilize the [**xclim library**](https://xclim.readthedocs.io/en/stable/notebooks/frequency_analysis.html), which is already imported in the script header. This library provides specialized tools for climate indices and frequency analysis, facilitating our calculations."
      ],
      "metadata": {
        "id": "HPCAKoYl5i5h"
      }
    },
    {
      "cell_type": "code",
      "source": [
        "# Use the libary xclim (https://xclim.readthedocs.io/en/stable/notebooks/frequency_analysis.html)\n",
        "# to optain the Block Maxima with yearly frequency"
      ],
      "metadata": {
        "id": "ruyPDqGN5mVd"
      },
      "execution_count": null,
      "outputs": []
    },
    {
      "cell_type": "code",
      "source": [
        "# We use the xclim libary to fit GEV function (dist=dist.gev)\n",
        "# Therefore, we can select from a broad range of fitting methods:\n",
        "# - Maximum Likelihood algorithm (method=\"ML\") - Default but very sensetive to outliers\n",
        "# - Method of Moments (method=\"MM\") - not working with our data\n",
        "# - Maximum Likelihood Estimation (method=\"MLE\") - kind of similar but diffrent to ML\n",
        "# - Probability Weighted Moments (method=\"PWM\") - More robust to oulierts!\n",
        "# PWM is well suited for small samples which in our case make it the prefered method."
      ],
      "metadata": {
        "id": "fbYjMIS355HM"
      },
      "execution_count": null,
      "outputs": []
    },
    {
      "cell_type": "code",
      "source": [
        "# We use the xclim libary to extract the quantile value for a given return period\n",
        "# as input we need:\n",
        "# - the previously fitted parameters (params) of the distribution function\n",
        "# - the quatinetile we are interested in which relates to the probability of excedance (q = 1-P = 1-1/tau)"
      ],
      "metadata": {
        "id": "HsPita0a7ixE"
      },
      "execution_count": null,
      "outputs": []
    },
    {
      "cell_type": "code",
      "source": [
        "# Plotting the map of expected extreme precipitation of a given return period (RP)\n",
        "\n",
        "# Befor plotting and saving as 2D map we have to select a quatile - other wise it is a 3D data cube\n",
        "\n",
        "# Plot mean annual probability precipitation events > threshold"
      ],
      "metadata": {
        "id": "glVpzEJw7o-B"
      },
      "execution_count": null,
      "outputs": []
    },
    {
      "cell_type": "code",
      "source": [
        "# Save map as netcdf files"
      ],
      "metadata": {
        "id": "AjPex1dEAm4P"
      },
      "execution_count": null,
      "outputs": []
    }
  ]
}